{
 "cells": [
  {
   "cell_type": "code",
   "execution_count": 1,
   "id": "hawaiian-powder",
   "metadata": {
    "_cell_guid": "b1076dfc-b9ad-4769-8c92-a6c4dae69d19",
    "_uuid": "8f2839f25d086af736a60e9eeb907d3b93b6e0e5",
    "execution": {
     "iopub.execute_input": "2021-05-23T10:21:12.936998Z",
     "iopub.status.busy": "2021-05-23T10:21:12.935175Z",
     "iopub.status.idle": "2021-05-23T10:21:14.185336Z",
     "shell.execute_reply": "2021-05-23T10:21:14.184688Z",
     "shell.execute_reply.started": "2021-05-23T10:19:43.498705Z"
    },
    "papermill": {
     "duration": 1.287893,
     "end_time": "2021-05-23T10:21:14.185519",
     "exception": false,
     "start_time": "2021-05-23T10:21:12.897626",
     "status": "completed"
    },
    "tags": []
   },
   "outputs": [
    {
     "name": "stdout",
     "output_type": "stream",
     "text": [
      "matplotlib version: 3.4.1\n",
      "scikit-learn version: 0.24.1\n",
      "/kaggle/input/tabular-playground-series-may-2021/sample_submission.csv\n",
      "/kaggle/input/tabular-playground-series-may-2021/train.csv\n",
      "/kaggle/input/tabular-playground-series-may-2021/test.csv\n"
     ]
    }
   ],
   "source": [
    "# This Python 3 environment comes with many helpful analytics libraries installed\n",
    "# It is defined by the kaggle/python Docker image: https://github.com/kaggle/docker-python\n",
    "# For example, here's several helpful packages to load\n",
    "\n",
    "import numpy as np # linear algebra\n",
    "import pandas as pd # data processing, CSV file I/O (e.g. pd.read_csv)\n",
    "\n",
    "import matplotlib\n",
    "import matplotlib.pyplot as plt\n",
    "print(\"matplotlib version: {}\". format(matplotlib.__version__))\n",
    "\n",
    "import sklearn # machine learning algorithms\n",
    "print(\"scikit-learn version: {}\". format(sklearn.__version__))\n",
    "from sklearn.preprocessing import StandardScaler\n",
    "from sklearn.preprocessing import LabelEncoder\n",
    "from sklearn.model_selection import StratifiedKFold\n",
    "from sklearn.model_selection import train_test_split\n",
    "\n",
    "from sklearn.tree import DecisionTreeClassifier\n",
    "from sklearn.metrics import log_loss\n",
    "from sklearn.model_selection import cross_val_score\n",
    "from sklearn.metrics import plot_confusion_matrix\n",
    "from sklearn.model_selection import GridSearchCV \n",
    "from sklearn.ensemble import RandomForestClassifier\n",
    "\n",
    "# Input data files are available in the read-only \"../input/\" directory\n",
    "# For example, running this (by clicking run or pressing Shift+Enter) will list all files under the input directory\n",
    "\n",
    "import os\n",
    "for dirname, _, filenames in os.walk('/kaggle/input'):\n",
    "    for filename in filenames:\n",
    "        print(os.path.join(dirname, filename))\n",
    "\n",
    "# You can write up to 20GB to the current directory (/kaggle/working/) that gets preserved as output when you create a version using \"Save & Run All\" \n",
    "# You can also write temporary files to /kaggle/temp/, but they won't be saved outside of the current session"
   ]
  },
  {
   "cell_type": "code",
   "execution_count": 2,
   "id": "aerial-wheel",
   "metadata": {
    "execution": {
     "iopub.execute_input": "2021-05-23T10:21:14.255380Z",
     "iopub.status.busy": "2021-05-23T10:21:14.254679Z",
     "iopub.status.idle": "2021-05-23T10:21:14.993473Z",
     "shell.execute_reply": "2021-05-23T10:21:14.992775Z",
     "shell.execute_reply.started": "2021-05-23T10:19:44.804195Z"
    },
    "papermill": {
     "duration": 0.775657,
     "end_time": "2021-05-23T10:21:14.993631",
     "exception": false,
     "start_time": "2021-05-23T10:21:14.217974",
     "status": "completed"
    },
    "tags": []
   },
   "outputs": [],
   "source": [
    "df_train = pd.read_csv('../input/tabular-playground-series-may-2021/train.csv')\n",
    "df_test = pd.read_csv('../input/tabular-playground-series-may-2021/test.csv')\n",
    "sample_submission = pd.read_csv('../input/tabular-playground-series-may-2021/sample_submission.csv') #the sample submission predicts everybody survived\n",
    "df_all = df_train.append(df_test, ignore_index = True) # created because sometimes it is convenient to work on train and test set together"
   ]
  },
  {
   "cell_type": "code",
   "execution_count": 3,
   "id": "straight-amber",
   "metadata": {
    "execution": {
     "iopub.execute_input": "2021-05-23T10:21:15.100921Z",
     "iopub.status.busy": "2021-05-23T10:21:15.100043Z",
     "iopub.status.idle": "2021-05-23T10:21:15.103555Z",
     "shell.execute_reply": "2021-05-23T10:21:15.104002Z",
     "shell.execute_reply.started": "2021-05-23T10:19:45.524543Z"
    },
    "papermill": {
     "duration": 0.076222,
     "end_time": "2021-05-23T10:21:15.104184",
     "exception": false,
     "start_time": "2021-05-23T10:21:15.027962",
     "status": "completed"
    },
    "tags": []
   },
   "outputs": [],
   "source": [
    "# drop duplicates\n",
    "# do any encoding here\n",
    "# label encode the target column\n",
    "le = LabelEncoder()\n",
    "df_train.target = le.fit_transform(df_train.target)\n",
    "#list(le.classes_) # check the classes that were encoded\n",
    "#le.inverse_transform(df_train.target) # to transform back\n",
    "\n",
    "#df_train = pd.get_dummies(df_train, columns= [\"target\"])"
   ]
  },
  {
   "cell_type": "code",
   "execution_count": 4,
   "id": "eight-peninsula",
   "metadata": {
    "execution": {
     "iopub.execute_input": "2021-05-23T10:21:15.178713Z",
     "iopub.status.busy": "2021-05-23T10:21:15.177736Z",
     "iopub.status.idle": "2021-05-23T10:21:15.200211Z",
     "shell.execute_reply": "2021-05-23T10:21:15.200727Z",
     "shell.execute_reply.started": "2021-05-23T10:19:45.569163Z"
    },
    "papermill": {
     "duration": 0.064382,
     "end_time": "2021-05-23T10:21:15.200905",
     "exception": false,
     "start_time": "2021-05-23T10:21:15.136523",
     "status": "completed"
    },
    "tags": []
   },
   "outputs": [
    {
     "data": {
      "text/html": [
       "<div>\n",
       "<style scoped>\n",
       "    .dataframe tbody tr th:only-of-type {\n",
       "        vertical-align: middle;\n",
       "    }\n",
       "\n",
       "    .dataframe tbody tr th {\n",
       "        vertical-align: top;\n",
       "    }\n",
       "\n",
       "    .dataframe thead th {\n",
       "        text-align: right;\n",
       "    }\n",
       "</style>\n",
       "<table border=\"1\" class=\"dataframe\">\n",
       "  <thead>\n",
       "    <tr style=\"text-align: right;\">\n",
       "      <th></th>\n",
       "      <th>id</th>\n",
       "      <th>feature_0</th>\n",
       "      <th>feature_1</th>\n",
       "      <th>feature_2</th>\n",
       "      <th>feature_3</th>\n",
       "      <th>feature_4</th>\n",
       "      <th>feature_5</th>\n",
       "      <th>feature_6</th>\n",
       "      <th>feature_7</th>\n",
       "      <th>feature_8</th>\n",
       "      <th>...</th>\n",
       "      <th>feature_41</th>\n",
       "      <th>feature_42</th>\n",
       "      <th>feature_43</th>\n",
       "      <th>feature_44</th>\n",
       "      <th>feature_45</th>\n",
       "      <th>feature_46</th>\n",
       "      <th>feature_47</th>\n",
       "      <th>feature_48</th>\n",
       "      <th>feature_49</th>\n",
       "      <th>target</th>\n",
       "    </tr>\n",
       "  </thead>\n",
       "  <tbody>\n",
       "    <tr>\n",
       "      <th>0</th>\n",
       "      <td>0</td>\n",
       "      <td>0</td>\n",
       "      <td>0</td>\n",
       "      <td>1</td>\n",
       "      <td>0</td>\n",
       "      <td>1</td>\n",
       "      <td>0</td>\n",
       "      <td>0</td>\n",
       "      <td>0</td>\n",
       "      <td>0</td>\n",
       "      <td>...</td>\n",
       "      <td>0</td>\n",
       "      <td>0</td>\n",
       "      <td>21</td>\n",
       "      <td>0</td>\n",
       "      <td>0</td>\n",
       "      <td>0</td>\n",
       "      <td>0</td>\n",
       "      <td>0</td>\n",
       "      <td>0</td>\n",
       "      <td>1</td>\n",
       "    </tr>\n",
       "    <tr>\n",
       "      <th>1</th>\n",
       "      <td>1</td>\n",
       "      <td>0</td>\n",
       "      <td>0</td>\n",
       "      <td>0</td>\n",
       "      <td>0</td>\n",
       "      <td>2</td>\n",
       "      <td>1</td>\n",
       "      <td>0</td>\n",
       "      <td>0</td>\n",
       "      <td>0</td>\n",
       "      <td>...</td>\n",
       "      <td>0</td>\n",
       "      <td>0</td>\n",
       "      <td>0</td>\n",
       "      <td>0</td>\n",
       "      <td>0</td>\n",
       "      <td>0</td>\n",
       "      <td>0</td>\n",
       "      <td>0</td>\n",
       "      <td>0</td>\n",
       "      <td>0</td>\n",
       "    </tr>\n",
       "    <tr>\n",
       "      <th>2</th>\n",
       "      <td>2</td>\n",
       "      <td>0</td>\n",
       "      <td>0</td>\n",
       "      <td>0</td>\n",
       "      <td>0</td>\n",
       "      <td>0</td>\n",
       "      <td>0</td>\n",
       "      <td>0</td>\n",
       "      <td>0</td>\n",
       "      <td>0</td>\n",
       "      <td>...</td>\n",
       "      <td>0</td>\n",
       "      <td>1</td>\n",
       "      <td>0</td>\n",
       "      <td>0</td>\n",
       "      <td>0</td>\n",
       "      <td>0</td>\n",
       "      <td>13</td>\n",
       "      <td>2</td>\n",
       "      <td>0</td>\n",
       "      <td>0</td>\n",
       "    </tr>\n",
       "    <tr>\n",
       "      <th>3</th>\n",
       "      <td>3</td>\n",
       "      <td>0</td>\n",
       "      <td>0</td>\n",
       "      <td>0</td>\n",
       "      <td>0</td>\n",
       "      <td>0</td>\n",
       "      <td>0</td>\n",
       "      <td>0</td>\n",
       "      <td>3</td>\n",
       "      <td>0</td>\n",
       "      <td>...</td>\n",
       "      <td>0</td>\n",
       "      <td>0</td>\n",
       "      <td>0</td>\n",
       "      <td>0</td>\n",
       "      <td>0</td>\n",
       "      <td>0</td>\n",
       "      <td>0</td>\n",
       "      <td>1</td>\n",
       "      <td>0</td>\n",
       "      <td>3</td>\n",
       "    </tr>\n",
       "    <tr>\n",
       "      <th>4</th>\n",
       "      <td>4</td>\n",
       "      <td>0</td>\n",
       "      <td>0</td>\n",
       "      <td>0</td>\n",
       "      <td>0</td>\n",
       "      <td>0</td>\n",
       "      <td>0</td>\n",
       "      <td>0</td>\n",
       "      <td>0</td>\n",
       "      <td>0</td>\n",
       "      <td>...</td>\n",
       "      <td>0</td>\n",
       "      <td>0</td>\n",
       "      <td>0</td>\n",
       "      <td>0</td>\n",
       "      <td>0</td>\n",
       "      <td>0</td>\n",
       "      <td>0</td>\n",
       "      <td>1</td>\n",
       "      <td>0</td>\n",
       "      <td>1</td>\n",
       "    </tr>\n",
       "  </tbody>\n",
       "</table>\n",
       "<p>5 rows × 52 columns</p>\n",
       "</div>"
      ],
      "text/plain": [
       "   id  feature_0  feature_1  feature_2  feature_3  feature_4  feature_5  \\\n",
       "0   0          0          0          1          0          1          0   \n",
       "1   1          0          0          0          0          2          1   \n",
       "2   2          0          0          0          0          0          0   \n",
       "3   3          0          0          0          0          0          0   \n",
       "4   4          0          0          0          0          0          0   \n",
       "\n",
       "   feature_6  feature_7  feature_8  ...  feature_41  feature_42  feature_43  \\\n",
       "0          0          0          0  ...           0           0          21   \n",
       "1          0          0          0  ...           0           0           0   \n",
       "2          0          0          0  ...           0           1           0   \n",
       "3          0          3          0  ...           0           0           0   \n",
       "4          0          0          0  ...           0           0           0   \n",
       "\n",
       "   feature_44  feature_45  feature_46  feature_47  feature_48  feature_49  \\\n",
       "0           0           0           0           0           0           0   \n",
       "1           0           0           0           0           0           0   \n",
       "2           0           0           0          13           2           0   \n",
       "3           0           0           0           0           1           0   \n",
       "4           0           0           0           0           1           0   \n",
       "\n",
       "   target  \n",
       "0       1  \n",
       "1       0  \n",
       "2       0  \n",
       "3       3  \n",
       "4       1  \n",
       "\n",
       "[5 rows x 52 columns]"
      ]
     },
     "execution_count": 4,
     "metadata": {},
     "output_type": "execute_result"
    }
   ],
   "source": [
    "df_train.head()"
   ]
  },
  {
   "cell_type": "code",
   "execution_count": 5,
   "id": "different-florence",
   "metadata": {
    "execution": {
     "iopub.execute_input": "2021-05-23T10:21:15.272570Z",
     "iopub.status.busy": "2021-05-23T10:21:15.271255Z",
     "iopub.status.idle": "2021-05-23T10:21:15.338506Z",
     "shell.execute_reply": "2021-05-23T10:21:15.337843Z",
     "shell.execute_reply.started": "2021-05-23T10:19:45.603439Z"
    },
    "papermill": {
     "duration": 0.10529,
     "end_time": "2021-05-23T10:21:15.338645",
     "exception": false,
     "start_time": "2021-05-23T10:21:15.233355",
     "status": "completed"
    },
    "tags": []
   },
   "outputs": [
    {
     "data": {
      "text/html": [
       "<div>\n",
       "<style scoped>\n",
       "    .dataframe tbody tr th:only-of-type {\n",
       "        vertical-align: middle;\n",
       "    }\n",
       "\n",
       "    .dataframe tbody tr th {\n",
       "        vertical-align: top;\n",
       "    }\n",
       "\n",
       "    .dataframe thead th {\n",
       "        text-align: right;\n",
       "    }\n",
       "</style>\n",
       "<table border=\"1\" class=\"dataframe\">\n",
       "  <thead>\n",
       "    <tr style=\"text-align: right;\">\n",
       "      <th></th>\n",
       "      <th>feature_0</th>\n",
       "      <th>feature_1</th>\n",
       "      <th>feature_2</th>\n",
       "      <th>feature_3</th>\n",
       "      <th>feature_4</th>\n",
       "      <th>feature_5</th>\n",
       "      <th>feature_6</th>\n",
       "      <th>feature_7</th>\n",
       "      <th>feature_8</th>\n",
       "      <th>feature_9</th>\n",
       "      <th>...</th>\n",
       "      <th>feature_40</th>\n",
       "      <th>feature_41</th>\n",
       "      <th>feature_42</th>\n",
       "      <th>feature_43</th>\n",
       "      <th>feature_44</th>\n",
       "      <th>feature_45</th>\n",
       "      <th>feature_46</th>\n",
       "      <th>feature_47</th>\n",
       "      <th>feature_48</th>\n",
       "      <th>feature_49</th>\n",
       "    </tr>\n",
       "  </thead>\n",
       "  <tbody>\n",
       "    <tr>\n",
       "      <th>0</th>\n",
       "      <td>0</td>\n",
       "      <td>0</td>\n",
       "      <td>1</td>\n",
       "      <td>0</td>\n",
       "      <td>1</td>\n",
       "      <td>0</td>\n",
       "      <td>0</td>\n",
       "      <td>0</td>\n",
       "      <td>0</td>\n",
       "      <td>0</td>\n",
       "      <td>...</td>\n",
       "      <td>3</td>\n",
       "      <td>0</td>\n",
       "      <td>0</td>\n",
       "      <td>21</td>\n",
       "      <td>0</td>\n",
       "      <td>0</td>\n",
       "      <td>0</td>\n",
       "      <td>0</td>\n",
       "      <td>0</td>\n",
       "      <td>0</td>\n",
       "    </tr>\n",
       "    <tr>\n",
       "      <th>1</th>\n",
       "      <td>0</td>\n",
       "      <td>0</td>\n",
       "      <td>0</td>\n",
       "      <td>0</td>\n",
       "      <td>2</td>\n",
       "      <td>1</td>\n",
       "      <td>0</td>\n",
       "      <td>0</td>\n",
       "      <td>0</td>\n",
       "      <td>0</td>\n",
       "      <td>...</td>\n",
       "      <td>0</td>\n",
       "      <td>0</td>\n",
       "      <td>0</td>\n",
       "      <td>0</td>\n",
       "      <td>0</td>\n",
       "      <td>0</td>\n",
       "      <td>0</td>\n",
       "      <td>0</td>\n",
       "      <td>0</td>\n",
       "      <td>0</td>\n",
       "    </tr>\n",
       "    <tr>\n",
       "      <th>2</th>\n",
       "      <td>0</td>\n",
       "      <td>0</td>\n",
       "      <td>0</td>\n",
       "      <td>0</td>\n",
       "      <td>0</td>\n",
       "      <td>0</td>\n",
       "      <td>0</td>\n",
       "      <td>0</td>\n",
       "      <td>0</td>\n",
       "      <td>2</td>\n",
       "      <td>...</td>\n",
       "      <td>0</td>\n",
       "      <td>0</td>\n",
       "      <td>1</td>\n",
       "      <td>0</td>\n",
       "      <td>0</td>\n",
       "      <td>0</td>\n",
       "      <td>0</td>\n",
       "      <td>13</td>\n",
       "      <td>2</td>\n",
       "      <td>0</td>\n",
       "    </tr>\n",
       "    <tr>\n",
       "      <th>3</th>\n",
       "      <td>0</td>\n",
       "      <td>0</td>\n",
       "      <td>0</td>\n",
       "      <td>0</td>\n",
       "      <td>0</td>\n",
       "      <td>0</td>\n",
       "      <td>0</td>\n",
       "      <td>3</td>\n",
       "      <td>0</td>\n",
       "      <td>0</td>\n",
       "      <td>...</td>\n",
       "      <td>0</td>\n",
       "      <td>0</td>\n",
       "      <td>0</td>\n",
       "      <td>0</td>\n",
       "      <td>0</td>\n",
       "      <td>0</td>\n",
       "      <td>0</td>\n",
       "      <td>0</td>\n",
       "      <td>1</td>\n",
       "      <td>0</td>\n",
       "    </tr>\n",
       "    <tr>\n",
       "      <th>4</th>\n",
       "      <td>0</td>\n",
       "      <td>0</td>\n",
       "      <td>0</td>\n",
       "      <td>0</td>\n",
       "      <td>0</td>\n",
       "      <td>0</td>\n",
       "      <td>0</td>\n",
       "      <td>0</td>\n",
       "      <td>0</td>\n",
       "      <td>0</td>\n",
       "      <td>...</td>\n",
       "      <td>0</td>\n",
       "      <td>0</td>\n",
       "      <td>0</td>\n",
       "      <td>0</td>\n",
       "      <td>0</td>\n",
       "      <td>0</td>\n",
       "      <td>0</td>\n",
       "      <td>0</td>\n",
       "      <td>1</td>\n",
       "      <td>0</td>\n",
       "    </tr>\n",
       "  </tbody>\n",
       "</table>\n",
       "<p>5 rows × 50 columns</p>\n",
       "</div>"
      ],
      "text/plain": [
       "   feature_0  feature_1  feature_2  feature_3  feature_4  feature_5  \\\n",
       "0          0          0          1          0          1          0   \n",
       "1          0          0          0          0          2          1   \n",
       "2          0          0          0          0          0          0   \n",
       "3          0          0          0          0          0          0   \n",
       "4          0          0          0          0          0          0   \n",
       "\n",
       "   feature_6  feature_7  feature_8  feature_9  ...  feature_40  feature_41  \\\n",
       "0          0          0          0          0  ...           3           0   \n",
       "1          0          0          0          0  ...           0           0   \n",
       "2          0          0          0          2  ...           0           0   \n",
       "3          0          3          0          0  ...           0           0   \n",
       "4          0          0          0          0  ...           0           0   \n",
       "\n",
       "   feature_42  feature_43  feature_44  feature_45  feature_46  feature_47  \\\n",
       "0           0          21           0           0           0           0   \n",
       "1           0           0           0           0           0           0   \n",
       "2           1           0           0           0           0          13   \n",
       "3           0           0           0           0           0           0   \n",
       "4           0           0           0           0           0           0   \n",
       "\n",
       "   feature_48  feature_49  \n",
       "0           0           0  \n",
       "1           0           0  \n",
       "2           2           0  \n",
       "3           1           0  \n",
       "4           1           0  \n",
       "\n",
       "[5 rows x 50 columns]"
      ]
     },
     "execution_count": 5,
     "metadata": {},
     "output_type": "execute_result"
    }
   ],
   "source": [
    "features = df_train.columns[1:51]\n",
    "df_train[features].head()"
   ]
  },
  {
   "cell_type": "code",
   "execution_count": 6,
   "id": "emotional-history",
   "metadata": {
    "execution": {
     "iopub.execute_input": "2021-05-23T10:21:15.431913Z",
     "iopub.status.busy": "2021-05-23T10:21:15.431065Z",
     "iopub.status.idle": "2021-05-23T10:21:15.435226Z",
     "shell.execute_reply": "2021-05-23T10:21:15.434653Z",
     "shell.execute_reply.started": "2021-05-23T10:19:45.672282Z"
    },
    "papermill": {
     "duration": 0.06396,
     "end_time": "2021-05-23T10:21:15.435377",
     "exception": false,
     "start_time": "2021-05-23T10:21:15.371417",
     "status": "completed"
    },
    "tags": []
   },
   "outputs": [
    {
     "data": {
      "text/html": [
       "<div>\n",
       "<style scoped>\n",
       "    .dataframe tbody tr th:only-of-type {\n",
       "        vertical-align: middle;\n",
       "    }\n",
       "\n",
       "    .dataframe tbody tr th {\n",
       "        vertical-align: top;\n",
       "    }\n",
       "\n",
       "    .dataframe thead th {\n",
       "        text-align: right;\n",
       "    }\n",
       "</style>\n",
       "<table border=\"1\" class=\"dataframe\">\n",
       "  <thead>\n",
       "    <tr style=\"text-align: right;\">\n",
       "      <th></th>\n",
       "      <th>feature_0</th>\n",
       "      <th>feature_1</th>\n",
       "      <th>feature_2</th>\n",
       "      <th>feature_3</th>\n",
       "      <th>feature_4</th>\n",
       "      <th>feature_5</th>\n",
       "      <th>feature_6</th>\n",
       "      <th>feature_7</th>\n",
       "      <th>feature_8</th>\n",
       "      <th>feature_9</th>\n",
       "      <th>...</th>\n",
       "      <th>feature_40</th>\n",
       "      <th>feature_41</th>\n",
       "      <th>feature_42</th>\n",
       "      <th>feature_43</th>\n",
       "      <th>feature_44</th>\n",
       "      <th>feature_45</th>\n",
       "      <th>feature_46</th>\n",
       "      <th>feature_47</th>\n",
       "      <th>feature_48</th>\n",
       "      <th>feature_49</th>\n",
       "    </tr>\n",
       "  </thead>\n",
       "  <tbody>\n",
       "    <tr>\n",
       "      <th>0</th>\n",
       "      <td>0</td>\n",
       "      <td>0</td>\n",
       "      <td>0</td>\n",
       "      <td>0</td>\n",
       "      <td>0</td>\n",
       "      <td>0</td>\n",
       "      <td>4</td>\n",
       "      <td>4</td>\n",
       "      <td>0</td>\n",
       "      <td>0</td>\n",
       "      <td>...</td>\n",
       "      <td>0</td>\n",
       "      <td>0</td>\n",
       "      <td>0</td>\n",
       "      <td>0</td>\n",
       "      <td>0</td>\n",
       "      <td>0</td>\n",
       "      <td>0</td>\n",
       "      <td>0</td>\n",
       "      <td>0</td>\n",
       "      <td>0</td>\n",
       "    </tr>\n",
       "    <tr>\n",
       "      <th>1</th>\n",
       "      <td>0</td>\n",
       "      <td>0</td>\n",
       "      <td>1</td>\n",
       "      <td>0</td>\n",
       "      <td>0</td>\n",
       "      <td>0</td>\n",
       "      <td>2</td>\n",
       "      <td>0</td>\n",
       "      <td>7</td>\n",
       "      <td>7</td>\n",
       "      <td>...</td>\n",
       "      <td>3</td>\n",
       "      <td>0</td>\n",
       "      <td>1</td>\n",
       "      <td>0</td>\n",
       "      <td>0</td>\n",
       "      <td>0</td>\n",
       "      <td>1</td>\n",
       "      <td>0</td>\n",
       "      <td>2</td>\n",
       "      <td>1</td>\n",
       "    </tr>\n",
       "    <tr>\n",
       "      <th>2</th>\n",
       "      <td>0</td>\n",
       "      <td>0</td>\n",
       "      <td>0</td>\n",
       "      <td>0</td>\n",
       "      <td>0</td>\n",
       "      <td>0</td>\n",
       "      <td>0</td>\n",
       "      <td>0</td>\n",
       "      <td>1</td>\n",
       "      <td>0</td>\n",
       "      <td>...</td>\n",
       "      <td>0</td>\n",
       "      <td>0</td>\n",
       "      <td>0</td>\n",
       "      <td>1</td>\n",
       "      <td>0</td>\n",
       "      <td>0</td>\n",
       "      <td>0</td>\n",
       "      <td>0</td>\n",
       "      <td>6</td>\n",
       "      <td>0</td>\n",
       "    </tr>\n",
       "    <tr>\n",
       "      <th>3</th>\n",
       "      <td>0</td>\n",
       "      <td>0</td>\n",
       "      <td>0</td>\n",
       "      <td>0</td>\n",
       "      <td>0</td>\n",
       "      <td>0</td>\n",
       "      <td>0</td>\n",
       "      <td>1</td>\n",
       "      <td>1</td>\n",
       "      <td>0</td>\n",
       "      <td>...</td>\n",
       "      <td>0</td>\n",
       "      <td>0</td>\n",
       "      <td>0</td>\n",
       "      <td>0</td>\n",
       "      <td>0</td>\n",
       "      <td>0</td>\n",
       "      <td>6</td>\n",
       "      <td>9</td>\n",
       "      <td>14</td>\n",
       "      <td>3</td>\n",
       "    </tr>\n",
       "    <tr>\n",
       "      <th>4</th>\n",
       "      <td>0</td>\n",
       "      <td>0</td>\n",
       "      <td>0</td>\n",
       "      <td>0</td>\n",
       "      <td>0</td>\n",
       "      <td>0</td>\n",
       "      <td>1</td>\n",
       "      <td>0</td>\n",
       "      <td>4</td>\n",
       "      <td>0</td>\n",
       "      <td>...</td>\n",
       "      <td>1</td>\n",
       "      <td>0</td>\n",
       "      <td>0</td>\n",
       "      <td>0</td>\n",
       "      <td>0</td>\n",
       "      <td>0</td>\n",
       "      <td>0</td>\n",
       "      <td>0</td>\n",
       "      <td>0</td>\n",
       "      <td>0</td>\n",
       "    </tr>\n",
       "  </tbody>\n",
       "</table>\n",
       "<p>5 rows × 50 columns</p>\n",
       "</div>"
      ],
      "text/plain": [
       "   feature_0  feature_1  feature_2  feature_3  feature_4  feature_5  \\\n",
       "0          0          0          0          0          0          0   \n",
       "1          0          0          1          0          0          0   \n",
       "2          0          0          0          0          0          0   \n",
       "3          0          0          0          0          0          0   \n",
       "4          0          0          0          0          0          0   \n",
       "\n",
       "   feature_6  feature_7  feature_8  feature_9  ...  feature_40  feature_41  \\\n",
       "0          4          4          0          0  ...           0           0   \n",
       "1          2          0          7          7  ...           3           0   \n",
       "2          0          0          1          0  ...           0           0   \n",
       "3          0          1          1          0  ...           0           0   \n",
       "4          1          0          4          0  ...           1           0   \n",
       "\n",
       "   feature_42  feature_43  feature_44  feature_45  feature_46  feature_47  \\\n",
       "0           0           0           0           0           0           0   \n",
       "1           1           0           0           0           1           0   \n",
       "2           0           1           0           0           0           0   \n",
       "3           0           0           0           0           6           9   \n",
       "4           0           0           0           0           0           0   \n",
       "\n",
       "   feature_48  feature_49  \n",
       "0           0           0  \n",
       "1           2           1  \n",
       "2           6           0  \n",
       "3          14           3  \n",
       "4           0           0  \n",
       "\n",
       "[5 rows x 50 columns]"
      ]
     },
     "execution_count": 6,
     "metadata": {},
     "output_type": "execute_result"
    }
   ],
   "source": [
    "df_test.head()\n",
    "X_test=df_test.drop(columns=\"id\")\n",
    "X_test.head()"
   ]
  },
  {
   "cell_type": "markdown",
   "id": "timely-dodge",
   "metadata": {
    "papermill": {
     "duration": 0.032814,
     "end_time": "2021-05-23T10:21:15.501899",
     "exception": false,
     "start_time": "2021-05-23T10:21:15.469085",
     "status": "completed"
    },
    "tags": []
   },
   "source": [
    "# Decision Tree\n",
    "Now it's time to play with my frist model. I will use a simple decision tree first as a baseline and later on Random Forest."
   ]
  },
  {
   "cell_type": "code",
   "execution_count": 7,
   "id": "friendly-motor",
   "metadata": {
    "execution": {
     "iopub.execute_input": "2021-05-23T10:21:15.598408Z",
     "iopub.status.busy": "2021-05-23T10:21:15.597324Z",
     "iopub.status.idle": "2021-05-23T10:21:16.066614Z",
     "shell.execute_reply": "2021-05-23T10:21:16.065592Z",
     "shell.execute_reply.started": "2021-05-23T10:19:45.704531Z"
    },
    "papermill": {
     "duration": 0.529975,
     "end_time": "2021-05-23T10:21:16.066791",
     "exception": false,
     "start_time": "2021-05-23T10:21:15.536816",
     "status": "completed"
    },
    "tags": []
   },
   "outputs": [
    {
     "data": {
      "text/plain": [
       "array([[0.08503237, 0.53932747, 0.23296937, 0.14267079],\n",
       "       [0.08315245, 0.58258021, 0.20316508, 0.13110225],\n",
       "       [0.08503237, 0.53932747, 0.23296937, 0.14267079]])"
      ]
     },
     "metadata": {},
     "output_type": "display_data"
    },
    {
     "name": "stdout",
     "output_type": "stream",
     "text": [
      "Accuracy on training set: 0.575587\n",
      "Multiclass Log Loss on training set:  1.110089\n",
      "Accuracy on validation set: 0.57444\n",
      "Multiclass Log Loss on validation set:  1.120429\n"
     ]
    }
   ],
   "source": [
    "# dividing X, y into train and test data\n",
    "X_train, X_val, y_train, y_val = train_test_split(df_train[features], df_train.target, random_state = 0, stratify=df_train.target)\n",
    "# without using stratify the class ratio is still well preserved. I think this is due to the size of the training set. With stratify \n",
    "# the class ratio is preserved perfectly\n",
    "\n",
    "# training a DescisionTreeClassifier\n",
    "dt = DecisionTreeClassifier(max_depth = 5)\n",
    "dt.fit(X_train, y_train)\n",
    "#dt_predictions = dt.predict(X_val) #not really needed, the probablilites are used for the evaluation metric\n",
    "dt_pred_proba = dt.predict_proba(X_val)\n",
    "display(dt_pred_proba[0:3])\n",
    "dt_log_loss_tr = log_loss(y_train,dt.predict_proba(X_train), normalize=True, labels = [0, 1, 2, 3])\n",
    "dt_log_loss_val = log_loss(y_val,dt_pred_proba, normalize=True, labels = [0, 1, 2, 3])\n",
    "print(\"Accuracy on training set:\", dt.score(X_train,y_train).round(6))\n",
    "print(\"Multiclass Log Loss on training set: \", dt_log_loss_tr.round(6))\n",
    "print(\"Accuracy on validation set:\", dt.score(X_val,y_val).round(6))\n",
    "print(\"Multiclass Log Loss on validation set: \", dt_log_loss_val.round(6))"
   ]
  },
  {
   "cell_type": "code",
   "execution_count": 8,
   "id": "second-wings",
   "metadata": {
    "execution": {
     "iopub.execute_input": "2021-05-23T10:21:16.143052Z",
     "iopub.status.busy": "2021-05-23T10:21:16.142346Z",
     "iopub.status.idle": "2021-05-23T10:21:16.455504Z",
     "shell.execute_reply": "2021-05-23T10:21:16.454865Z",
     "shell.execute_reply.started": "2021-05-23T10:19:46.201031Z"
    },
    "papermill": {
     "duration": 0.353949,
     "end_time": "2021-05-23T10:21:16.455649",
     "exception": false,
     "start_time": "2021-05-23T10:21:16.101700",
     "status": "completed"
    },
    "tags": []
   },
   "outputs": [
    {
     "data": {
      "text/plain": [
       "<sklearn.metrics._plot.confusion_matrix.ConfusionMatrixDisplay at 0x7ff00f6b5ad0>"
      ]
     },
     "execution_count": 8,
     "metadata": {},
     "output_type": "execute_result"
    },
    {
     "data": {
      "image/png": "[encoded data removed]",
      "text/plain": [
       "<Figure size 432x288 with 2 Axes>"
      ]
     },
     "metadata": {
      "needs_background": "light"
     },
     "output_type": "display_data"
    }
   ],
   "source": [
    "class_labels = [\"Class_1\",\"Class_2\",\"Class_3\",\"Class_4\"]\n",
    "plot_confusion_matrix(dt, \n",
    "                      X_val, \n",
    "                      y_val,\n",
    "                      values_format='d',\n",
    "                      display_labels=class_labels)"
   ]
  },
  {
   "cell_type": "markdown",
   "id": "operational-mississippi",
   "metadata": {
    "papermill": {
     "duration": 0.03635,
     "end_time": "2021-05-23T10:21:16.527571",
     "exception": false,
     "start_time": "2021-05-23T10:21:16.491221",
     "status": "completed"
    },
    "tags": []
   },
   "source": [
    "Accuracy is bad, even on training set. The decision tree classifies nearly everything as the majority class. \n",
    "\n",
    "Before tuning the parameters of my estimator, let's check if cross validation is likely to improve the situation. "
   ]
  },
  {
   "cell_type": "code",
   "execution_count": 9,
   "id": "damaged-rotation",
   "metadata": {
    "execution": {
     "iopub.execute_input": "2021-05-23T10:21:16.620540Z",
     "iopub.status.busy": "2021-05-23T10:21:16.619562Z",
     "iopub.status.idle": "2021-05-23T10:21:18.162680Z",
     "shell.execute_reply": "2021-05-23T10:21:18.161990Z",
     "shell.execute_reply.started": "2021-05-23T10:19:46.501443Z"
    },
    "papermill": {
     "duration": 1.598918,
     "end_time": "2021-05-23T10:21:18.162827",
     "exception": false,
     "start_time": "2021-05-23T10:21:16.563909",
     "status": "completed"
    },
    "tags": []
   },
   "outputs": [
    {
     "data": {
      "text/plain": [
       "array([0.57455, 0.57515, 0.57435, 0.57485, 0.5749 ])"
      ]
     },
     "execution_count": 9,
     "metadata": {},
     "output_type": "execute_result"
    }
   ],
   "source": [
    "# keeping max_depth unchanged, check if cross validation makes a difference\n",
    "# cross_val_score uses stratifiedKfold to make the splits and compute the score.\n",
    "# By default the score is Accuracy (the default scorer of the Decision Tree). This can be changed, but I don't know how yet.\n",
    "cross_val_score(dt,df_train[features], df_train.target, cv=5)"
   ]
  },
  {
   "cell_type": "markdown",
   "id": "wired-allah",
   "metadata": {
    "papermill": {
     "duration": 0.036622,
     "end_time": "2021-05-23T10:21:18.238359",
     "exception": false,
     "start_time": "2021-05-23T10:21:18.201737",
     "status": "completed"
    },
    "tags": []
   },
   "source": [
    "The cross_val_score is very similar in all folds. This means that cross validation is unlikely to be helpful here. I think the dataset is big enough for holdout validation. "
   ]
  },
  {
   "cell_type": "code",
   "execution_count": 10,
   "id": "infinite-floor",
   "metadata": {
    "execution": {
     "iopub.execute_input": "2021-05-23T10:21:18.319932Z",
     "iopub.status.busy": "2021-05-23T10:21:18.319206Z",
     "iopub.status.idle": "2021-05-23T10:21:20.081633Z",
     "shell.execute_reply": "2021-05-23T10:21:20.080941Z",
     "shell.execute_reply.started": "2021-05-23T10:19:48.050265Z"
    },
    "papermill": {
     "duration": 1.808008,
     "end_time": "2021-05-23T10:21:20.081778",
     "exception": false,
     "start_time": "2021-05-23T10:21:18.273770",
     "status": "completed"
    },
    "tags": []
   },
   "outputs": [
    {
     "name": "stdout",
     "output_type": "stream",
     "text": [
      "Fold 1 Class Ratio:\n",
      " 1    0.5750\n",
      "2    0.2142\n",
      "3    0.1259\n",
      "0    0.0849\n",
      "Name: target, dtype: float64\n",
      "Fold 1  Accuracy: 0.57455  Log Loss: 1.1197138659519017\n",
      "Fold 2 Class Ratio:\n",
      " 1    0.5750\n",
      "2    0.2142\n",
      "3    0.1259\n",
      "0    0.0849\n",
      "Name: target, dtype: float64\n",
      "Fold 2  Accuracy: 0.57515  Log Loss: 1.1241118112809694\n",
      "Fold 3 Class Ratio:\n",
      " 1    0.57495\n",
      "2    0.21420\n",
      "3    0.12595\n",
      "0    0.08490\n",
      "Name: target, dtype: float64\n",
      "Fold 3  Accuracy: 0.57435  Log Loss: 1.1162259322736823\n",
      "Fold 4 Class Ratio:\n",
      " 1    0.57495\n",
      "2    0.21420\n",
      "3    0.12595\n",
      "0    0.08490\n",
      "Name: target, dtype: float64\n",
      "Fold 4  Accuracy: 0.57485  Log Loss: 1.1250180372897276\n",
      "Fold 5 Class Ratio:\n",
      " 1    0.57495\n",
      "2    0.21420\n",
      "3    0.12595\n",
      "0    0.08490\n",
      "Name: target, dtype: float64\n",
      "Fold 5  Accuracy: 0.5749  Log Loss: 1.123114883885338\n"
     ]
    }
   ],
   "source": [
    "# for learning purpose...\n",
    "# this cell represents the LONG version of what is calculated above in cross_val_score. Additionally it outputs the Log Loss per fold.\n",
    "from sklearn.metrics import accuracy_score\n",
    "skf = StratifiedKFold(n_splits=5)\n",
    "\n",
    "def train_model(train, val, fold_no):\n",
    "    features = df_train.columns[1:51]\n",
    "    y = ['target']\n",
    "    X_train = train[features]\n",
    "    y_train = train[y]\n",
    "    X_val = val[features]\n",
    "    y_val = val[y]\n",
    "    dt.fit(X_train,y_train)\n",
    "    predictions = dt.predict(X_val)\n",
    "    pred_proba = dt.predict_proba(X_val)\n",
    "    print('Fold',str(fold_no),\n",
    "         ' Accuracy:',\n",
    "         accuracy_score(y_val,predictions), \n",
    "         \" Log Loss:\",\n",
    "         log_loss(y_val,pred_proba, normalize=True, labels = [0, 1, 2, 3]))\n",
    "    \n",
    "fold_no = 1\n",
    "for train_index, test_index in skf.split(df_train, df_train.target):\n",
    "    train = df_train.loc[train_index,:]\n",
    "    val = df_train.loc[test_index,:]\n",
    "    print('Fold',str(fold_no),\n",
    "          'Class Ratio:\\n',\n",
    "          val.target.value_counts(normalize=True)\n",
    "         )\n",
    "    train_model(train,val,fold_no) \n",
    "    fold_no += 1"
   ]
  },
  {
   "cell_type": "markdown",
   "id": "diverse-messaging",
   "metadata": {
    "papermill": {
     "duration": 0.03745,
     "end_time": "2021-05-23T10:21:20.158389",
     "exception": false,
     "start_time": "2021-05-23T10:21:20.120939",
     "status": "completed"
    },
    "tags": []
   },
   "source": [
    "Now it's time to see if better hyperparameters lead to a better result or if a decision tree is just a too weak learner for this task. (Spoiler: it is!)"
   ]
  },
  {
   "cell_type": "code",
   "execution_count": 11,
   "id": "sufficient-pointer",
   "metadata": {
    "execution": {
     "iopub.execute_input": "2021-05-23T10:21:20.239657Z",
     "iopub.status.busy": "2021-05-23T10:21:20.238935Z",
     "iopub.status.idle": "2021-05-23T10:21:20.241861Z",
     "shell.execute_reply": "2021-05-23T10:21:20.241258Z",
     "shell.execute_reply.started": "2021-05-23T10:19:49.767107Z"
    },
    "papermill": {
     "duration": 0.046013,
     "end_time": "2021-05-23T10:21:20.242004",
     "exception": false,
     "start_time": "2021-05-23T10:21:20.195991",
     "status": "completed"
    },
    "tags": []
   },
   "outputs": [],
   "source": [
    "param_grid = {\n",
    "     'max_depth': [2, 3, 4, 5],\n",
    "     'min_samples_split': [2, 3, 4],\n",
    " }\n",
    "optimal_params = GridSearchCV(\n",
    "     estimator=DecisionTreeClassifier(),\n",
    "     param_grid=param_grid,\n",
    "     scoring='neg_log_loss', ## see https://scikit-learn.org/stable/modules/model_evaluation.html#scoring-parameter\n",
    "     verbose=2, # NOTE: If you want to see what Grid Search is doing, set verbose=2\n",
    "     cv = 5,\n",
    "     return_train_score= True\n",
    " )"
   ]
  },
  {
   "cell_type": "code",
   "execution_count": 12,
   "id": "invisible-facility",
   "metadata": {
    "execution": {
     "iopub.execute_input": "2021-05-23T10:21:20.336429Z",
     "iopub.status.busy": "2021-05-23T10:21:20.335467Z",
     "iopub.status.idle": "2021-05-23T10:21:36.431561Z",
     "shell.execute_reply": "2021-05-23T10:21:36.432060Z",
     "shell.execute_reply.started": "2021-05-23T10:19:49.775218Z"
    },
    "papermill": {
     "duration": 16.15177,
     "end_time": "2021-05-23T10:21:36.432236",
     "exception": false,
     "start_time": "2021-05-23T10:21:20.280466",
     "status": "completed"
    },
    "tags": []
   },
   "outputs": [
    {
     "name": "stdout",
     "output_type": "stream",
     "text": [
      "Fitting 5 folds for each of 12 candidates, totalling 60 fits\n",
      "[CV] END ...................max_depth=2, min_samples_split=2; total time=   0.1s\n",
      "[CV] END ...................max_depth=2, min_samples_split=2; total time=   0.1s\n",
      "[CV] END ...................max_depth=2, min_samples_split=2; total time=   0.1s\n",
      "[CV] END ...................max_depth=2, min_samples_split=2; total time=   0.1s\n",
      "[CV] END ...................max_depth=2, min_samples_split=2; total time=   0.1s\n",
      "[CV] END ...................max_depth=2, min_samples_split=3; total time=   0.1s\n",
      "[CV] END ...................max_depth=2, min_samples_split=3; total time=   0.1s\n",
      "[CV] END ...................max_depth=2, min_samples_split=3; total time=   0.1s\n",
      "[CV] END ...................max_depth=2, min_samples_split=3; total time=   0.1s\n",
      "[CV] END ...................max_depth=2, min_samples_split=3; total time=   0.1s\n",
      "[CV] END ...................max_depth=2, min_samples_split=4; total time=   0.1s\n",
      "[CV] END ...................max_depth=2, min_samples_split=4; total time=   0.1s\n",
      "[CV] END ...................max_depth=2, min_samples_split=4; total time=   0.1s\n",
      "[CV] END ...................max_depth=2, min_samples_split=4; total time=   0.1s\n",
      "[CV] END ...................max_depth=2, min_samples_split=4; total time=   0.1s\n",
      "[CV] END ...................max_depth=3, min_samples_split=2; total time=   0.2s\n",
      "[CV] END ...................max_depth=3, min_samples_split=2; total time=   0.2s\n",
      "[CV] END ...................max_depth=3, min_samples_split=2; total time=   0.2s\n",
      "[CV] END ...................max_depth=3, min_samples_split=2; total time=   0.2s\n",
      "[CV] END ...................max_depth=3, min_samples_split=2; total time=   0.2s\n",
      "[CV] END ...................max_depth=3, min_samples_split=3; total time=   0.2s\n",
      "[CV] END ...................max_depth=3, min_samples_split=3; total time=   0.2s\n",
      "[CV] END ...................max_depth=3, min_samples_split=3; total time=   0.2s\n",
      "[CV] END ...................max_depth=3, min_samples_split=3; total time=   0.2s\n",
      "[CV] END ...................max_depth=3, min_samples_split=3; total time=   0.2s\n",
      "[CV] END ...................max_depth=3, min_samples_split=4; total time=   0.2s\n",
      "[CV] END ...................max_depth=3, min_samples_split=4; total time=   0.2s\n",
      "[CV] END ...................max_depth=3, min_samples_split=4; total time=   0.2s\n",
      "[CV] END ...................max_depth=3, min_samples_split=4; total time=   0.2s\n",
      "[CV] END ...................max_depth=3, min_samples_split=4; total time=   0.2s\n",
      "[CV] END ...................max_depth=4, min_samples_split=2; total time=   0.2s\n",
      "[CV] END ...................max_depth=4, min_samples_split=2; total time=   0.3s\n",
      "[CV] END ...................max_depth=4, min_samples_split=2; total time=   0.2s\n",
      "[CV] END ...................max_depth=4, min_samples_split=2; total time=   0.2s\n",
      "[CV] END ...................max_depth=4, min_samples_split=2; total time=   0.2s\n",
      "[CV] END ...................max_depth=4, min_samples_split=3; total time=   0.2s\n",
      "[CV] END ...................max_depth=4, min_samples_split=3; total time=   0.2s\n",
      "[CV] END ...................max_depth=4, min_samples_split=3; total time=   0.2s\n",
      "[CV] END ...................max_depth=4, min_samples_split=3; total time=   0.2s\n",
      "[CV] END ...................max_depth=4, min_samples_split=3; total time=   0.2s\n",
      "[CV] END ...................max_depth=4, min_samples_split=4; total time=   0.2s\n",
      "[CV] END ...................max_depth=4, min_samples_split=4; total time=   0.3s\n",
      "[CV] END ...................max_depth=4, min_samples_split=4; total time=   0.2s\n",
      "[CV] END ...................max_depth=4, min_samples_split=4; total time=   0.2s\n",
      "[CV] END ...................max_depth=4, min_samples_split=4; total time=   0.2s\n",
      "[CV] END ...................max_depth=5, min_samples_split=2; total time=   0.3s\n",
      "[CV] END ...................max_depth=5, min_samples_split=2; total time=   0.3s\n",
      "[CV] END ...................max_depth=5, min_samples_split=2; total time=   0.3s\n",
      "[CV] END ...................max_depth=5, min_samples_split=2; total time=   0.3s\n",
      "[CV] END ...................max_depth=5, min_samples_split=2; total time=   0.3s\n",
      "[CV] END ...................max_depth=5, min_samples_split=3; total time=   0.3s\n",
      "[CV] END ...................max_depth=5, min_samples_split=3; total time=   0.3s\n",
      "[CV] END ...................max_depth=5, min_samples_split=3; total time=   0.3s\n",
      "[CV] END ...................max_depth=5, min_samples_split=3; total time=   0.3s\n",
      "[CV] END ...................max_depth=5, min_samples_split=3; total time=   0.3s\n",
      "[CV] END ...................max_depth=5, min_samples_split=4; total time=   0.3s\n",
      "[CV] END ...................max_depth=5, min_samples_split=4; total time=   0.3s\n",
      "[CV] END ...................max_depth=5, min_samples_split=4; total time=   0.3s\n",
      "[CV] END ...................max_depth=5, min_samples_split=4; total time=   0.3s\n",
      "[CV] END ...................max_depth=5, min_samples_split=4; total time=   0.3s\n",
      "{'max_depth': 3, 'min_samples_split': 2}\n"
     ]
    }
   ],
   "source": [
    "optimal_params.fit(df_train[features],df_train.target)\n",
    "print(optimal_params.best_params_)"
   ]
  },
  {
   "cell_type": "code",
   "execution_count": 13,
   "id": "applied-wrist",
   "metadata": {
    "execution": {
     "iopub.execute_input": "2021-05-23T10:21:36.547197Z",
     "iopub.status.busy": "2021-05-23T10:21:36.546100Z",
     "iopub.status.idle": "2021-05-23T10:21:36.556448Z",
     "shell.execute_reply": "2021-05-23T10:21:36.555736Z",
     "shell.execute_reply.started": "2021-05-23T10:20:05.804895Z"
    },
    "papermill": {
     "duration": 0.070191,
     "end_time": "2021-05-23T10:21:36.556602",
     "exception": false,
     "start_time": "2021-05-23T10:21:36.486411",
     "status": "completed"
    },
    "tags": []
   },
   "outputs": [
    {
     "data": {
      "text/plain": [
       "-1.1146814531036864"
      ]
     },
     "metadata": {},
     "output_type": "display_data"
    },
    {
     "data": {
      "text/plain": [
       "array([-1.11481923, -1.11481923, -1.11481923, -1.1133686 , -1.1133686 ,\n",
       "       -1.1133686 , -1.11176345, -1.11176345, -1.11176345, -1.10975456,\n",
       "       -1.10975456, -1.10975456])"
      ]
     },
     "metadata": {},
     "output_type": "display_data"
    },
    {
     "data": {
      "text/plain": [
       "array([-1.11681685, -1.11681685, -1.11681685, -1.11569878, -1.11569878,\n",
       "       -1.11569878, -1.11521279, -1.11521279, -1.11521279, -1.11971387,\n",
       "       -1.11971387, -1.11971387])"
      ]
     },
     "execution_count": 13,
     "metadata": {},
     "output_type": "execute_result"
    }
   ],
   "source": [
    "display(optimal_params.best_score_)\n",
    "display(optimal_params.cv_results_['split0_train_score']) # log loss for all 12 combinations with the 1st of 5 splits on training set\n",
    "optimal_params.cv_results_['split0_test_score']# log loss for all 12 combinations with the 1st of 5 splits on testing set"
   ]
  },
  {
   "cell_type": "code",
   "execution_count": 14,
   "id": "placed-balance",
   "metadata": {
    "execution": {
     "iopub.execute_input": "2021-05-23T10:21:36.685776Z",
     "iopub.status.busy": "2021-05-23T10:21:36.684750Z",
     "iopub.status.idle": "2021-05-23T10:21:36.689740Z",
     "shell.execute_reply": "2021-05-23T10:21:36.689057Z",
     "shell.execute_reply.started": "2021-05-23T10:20:05.818654Z"
    },
    "papermill": {
     "duration": 0.073174,
     "end_time": "2021-05-23T10:21:36.689887",
     "exception": false,
     "start_time": "2021-05-23T10:21:36.616713",
     "status": "completed"
    },
    "tags": []
   },
   "outputs": [
    {
     "data": {
      "text/plain": [
       "{'mean_fit_time': array([0.12762551, 0.1254353 , 0.12511458, 0.18396282, 0.17998457,\n",
       "        0.1745892 , 0.23315172, 0.23147869, 0.23335409, 0.28990436,\n",
       "        0.29095654, 0.2951232 ]),\n",
       " 'std_fit_time': array([0.00340497, 0.00326613, 0.00142568, 0.00628774, 0.0043878 ,\n",
       "        0.00062037, 0.00325539, 0.00169316, 0.00313175, 0.00229551,\n",
       "        0.00289497, 0.0074836 ]),\n",
       " 'mean_score_time': array([0.01312251, 0.01284242, 0.01293616, 0.0140595 , 0.01400995,\n",
       "        0.01298757, 0.01347003, 0.01322293, 0.01327848, 0.01341348,\n",
       "        0.01373124, 0.01339607]),\n",
       " 'std_score_time': array([3.12309461e-04, 1.56950210e-04, 1.73178197e-04, 1.09389746e-03,\n",
       "        1.76187447e-03, 1.40599008e-04, 1.93266789e-04, 2.14519281e-04,\n",
       "        9.89464105e-05, 4.89972861e-05, 6.63795056e-04, 1.12212195e-04]),\n",
       " 'param_max_depth': masked_array(data=[2, 2, 2, 3, 3, 3, 4, 4, 4, 5, 5, 5],\n",
       "              mask=[False, False, False, False, False, False, False, False,\n",
       "                    False, False, False, False],\n",
       "        fill_value='?',\n",
       "             dtype=object),\n",
       " 'param_min_samples_split': masked_array(data=[2, 3, 4, 2, 3, 4, 2, 3, 4, 2, 3, 4],\n",
       "              mask=[False, False, False, False, False, False, False, False,\n",
       "                    False, False, False, False],\n",
       "        fill_value='?',\n",
       "             dtype=object),\n",
       " 'params': [{'max_depth': 2, 'min_samples_split': 2},\n",
       "  {'max_depth': 2, 'min_samples_split': 3},\n",
       "  {'max_depth': 2, 'min_samples_split': 4},\n",
       "  {'max_depth': 3, 'min_samples_split': 2},\n",
       "  {'max_depth': 3, 'min_samples_split': 3},\n",
       "  {'max_depth': 3, 'min_samples_split': 4},\n",
       "  {'max_depth': 4, 'min_samples_split': 2},\n",
       "  {'max_depth': 4, 'min_samples_split': 3},\n",
       "  {'max_depth': 4, 'min_samples_split': 4},\n",
       "  {'max_depth': 5, 'min_samples_split': 2},\n",
       "  {'max_depth': 5, 'min_samples_split': 3},\n",
       "  {'max_depth': 5, 'min_samples_split': 4}],\n",
       " 'split0_test_score': array([-1.11681685, -1.11681685, -1.11681685, -1.11569878, -1.11569878,\n",
       "        -1.11569878, -1.11521279, -1.11521279, -1.11521279, -1.11971387,\n",
       "        -1.11971387, -1.11971387]),\n",
       " 'split1_test_score': array([-1.11461352, -1.11461352, -1.11461352, -1.11393492, -1.11393492,\n",
       "        -1.11393492, -1.118204  , -1.118204  , -1.118204  , -1.12411181,\n",
       "        -1.12411181, -1.12411181]),\n",
       " 'split2_test_score': array([-1.11491404, -1.11491404, -1.11491404, -1.11408671, -1.11408671,\n",
       "        -1.11408671, -1.1167859 , -1.1167859 , -1.1167859 , -1.11622593,\n",
       "        -1.11622593, -1.11622593]),\n",
       " 'split3_test_score': array([-1.11612692, -1.11612692, -1.11612692, -1.11563676, -1.11563676,\n",
       "        -1.11563676, -1.11789769, -1.11789769, -1.11789769, -1.12501804,\n",
       "        -1.12501804, -1.12501804]),\n",
       " 'split4_test_score': array([-1.11509597, -1.11509597, -1.11509597, -1.1140501 , -1.1140501 ,\n",
       "        -1.1140501 , -1.11302505, -1.11302505, -1.11302505, -1.12311488,\n",
       "        -1.12311488, -1.12311488]),\n",
       " 'mean_test_score': array([-1.11551346, -1.11551346, -1.11551346, -1.11468145, -1.11468145,\n",
       "        -1.11468145, -1.11622509, -1.11622509, -1.11622509, -1.12163691,\n",
       "        -1.12163691, -1.12163691]),\n",
       " 'std_test_score': array([0.00082688, 0.00082688, 0.00082688, 0.00080712, 0.00080712,\n",
       "        0.00080712, 0.00191276, 0.00191276, 0.00191276, 0.0032471 ,\n",
       "        0.0032471 , 0.0032471 ]),\n",
       " 'rank_test_score': array([ 4,  4,  4,  1,  1,  1,  7,  7,  7, 10, 10, 10], dtype=int32),\n",
       " 'split0_train_score': array([-1.11481923, -1.11481923, -1.11481923, -1.1133686 , -1.1133686 ,\n",
       "        -1.1133686 , -1.11176345, -1.11176345, -1.11176345, -1.10975456,\n",
       "        -1.10975456, -1.10975456]),\n",
       " 'split1_train_score': array([-1.11537227, -1.11537227, -1.11537227, -1.11396164, -1.11396164,\n",
       "        -1.11396164, -1.11242325, -1.11242325, -1.11242325, -1.11038661,\n",
       "        -1.11038661, -1.11038661]),\n",
       " 'split2_train_score': array([-1.11529002, -1.11529002, -1.11529002, -1.11382567, -1.11382567,\n",
       "        -1.11382567, -1.1123387 , -1.1123387 , -1.1123387 , -1.11047198,\n",
       "        -1.11047198, -1.11047198]),\n",
       " 'split3_train_score': array([-1.11503424, -1.11503424, -1.11503424, -1.1137059 , -1.1137059 ,\n",
       "        -1.1137059 , -1.11196904, -1.11196904, -1.11196904, -1.10995594,\n",
       "        -1.10995594, -1.10997981]),\n",
       " 'split4_train_score': array([-1.11526777, -1.11526777, -1.11526777, -1.11403106, -1.11403106,\n",
       "        -1.11403106, -1.11233487, -1.11233487, -1.11233487, -1.11029889,\n",
       "        -1.11029889, -1.11029889]),\n",
       " 'mean_train_score': array([-1.11515671, -1.11515671, -1.11515671, -1.11377858, -1.11377858,\n",
       "        -1.11377858, -1.11216586, -1.11216586, -1.11216586, -1.1101736 ,\n",
       "        -1.1101736 , -1.11017837]),\n",
       " 'std_train_score': array([0.00020271, 0.00020271, 0.00020271, 0.0002336 , 0.0002336 ,\n",
       "        0.0002336 , 0.00025509, 0.00025509, 0.00025509, 0.00027316,\n",
       "        0.00027316, 0.0002695 ])}"
      ]
     },
     "execution_count": 14,
     "metadata": {},
     "output_type": "execute_result"
    }
   ],
   "source": [
    "optimal_params.cv_results_"
   ]
  },
  {
   "cell_type": "code",
   "execution_count": 15,
   "id": "hollywood-washington",
   "metadata": {
    "execution": {
     "iopub.execute_input": "2021-05-23T10:21:36.823818Z",
     "iopub.status.busy": "2021-05-23T10:21:36.822699Z",
     "iopub.status.idle": "2021-05-23T10:21:37.044913Z",
     "shell.execute_reply": "2021-05-23T10:21:37.045791Z",
     "shell.execute_reply.started": "2021-05-23T10:20:05.837561Z"
    },
    "papermill": {
     "duration": 0.295251,
     "end_time": "2021-05-23T10:21:37.045983",
     "exception": false,
     "start_time": "2021-05-23T10:21:36.750732",
     "status": "completed"
    },
    "tags": []
   },
   "outputs": [
    {
     "data": {
      "text/plain": [
       "array([[0.0862783 , 0.606709  , 0.1929873 , 0.1140254 ],\n",
       "       [0.08673469, 0.61054422, 0.21598639, 0.08673469],\n",
       "       [0.08416828, 0.57325009, 0.21010019, 0.13248143],\n",
       "       [0.08416828, 0.57325009, 0.21010019, 0.13248143]])"
      ]
     },
     "execution_count": 15,
     "metadata": {},
     "output_type": "execute_result"
    }
   ],
   "source": [
    "# retrain\n",
    "dt = DecisionTreeClassifier(max_depth = 3, min_samples_split=2)\n",
    "dt.fit(df_train[features],df_train.target)\n",
    "# predict\n",
    "predictions = dt.predict_proba(X_test)\n",
    "predictions[0:4]"
   ]
  },
  {
   "cell_type": "code",
   "execution_count": 16,
   "id": "curious-newcastle",
   "metadata": {
    "execution": {
     "iopub.execute_input": "2021-05-23T10:21:37.168995Z",
     "iopub.status.busy": "2021-05-23T10:21:37.168293Z",
     "iopub.status.idle": "2021-05-23T10:21:37.633388Z",
     "shell.execute_reply": "2021-05-23T10:21:37.632680Z",
     "shell.execute_reply.started": "2021-05-23T10:20:06.108403Z"
    },
    "papermill": {
     "duration": 0.531691,
     "end_time": "2021-05-23T10:21:37.633566",
     "exception": false,
     "start_time": "2021-05-23T10:21:37.101875",
     "status": "completed"
    },
    "tags": []
   },
   "outputs": [],
   "source": [
    "# create submission file\n",
    "sample_submission.drop(columns=class_labels, inplace=True)\n",
    "submission = (sample_submission.join(pd.DataFrame(data=predictions, columns=class_labels)))\n",
    "submission.to_csv(\"submission_DT.csv\", index=False)"
   ]
  },
  {
   "cell_type": "code",
   "execution_count": 17,
   "id": "proud-admission",
   "metadata": {
    "execution": {
     "iopub.execute_input": "2021-05-23T10:21:37.762867Z",
     "iopub.status.busy": "2021-05-23T10:21:37.761908Z",
     "iopub.status.idle": "2021-05-23T10:21:37.766257Z",
     "shell.execute_reply": "2021-05-23T10:21:37.765767Z",
     "shell.execute_reply.started": "2021-05-23T10:20:06.583632Z"
    },
    "papermill": {
     "duration": 0.076252,
     "end_time": "2021-05-23T10:21:37.766418",
     "exception": false,
     "start_time": "2021-05-23T10:21:37.690166",
     "status": "completed"
    },
    "tags": []
   },
   "outputs": [
    {
     "data": {
      "text/html": [
       "<div>\n",
       "<style scoped>\n",
       "    .dataframe tbody tr th:only-of-type {\n",
       "        vertical-align: middle;\n",
       "    }\n",
       "\n",
       "    .dataframe tbody tr th {\n",
       "        vertical-align: top;\n",
       "    }\n",
       "\n",
       "    .dataframe thead th {\n",
       "        text-align: right;\n",
       "    }\n",
       "</style>\n",
       "<table border=\"1\" class=\"dataframe\">\n",
       "  <thead>\n",
       "    <tr style=\"text-align: right;\">\n",
       "      <th></th>\n",
       "      <th>id</th>\n",
       "      <th>Class_1</th>\n",
       "      <th>Class_2</th>\n",
       "      <th>Class_3</th>\n",
       "      <th>Class_4</th>\n",
       "    </tr>\n",
       "  </thead>\n",
       "  <tbody>\n",
       "    <tr>\n",
       "      <th>0</th>\n",
       "      <td>100000</td>\n",
       "      <td>0.086278</td>\n",
       "      <td>0.606709</td>\n",
       "      <td>0.192987</td>\n",
       "      <td>0.114025</td>\n",
       "    </tr>\n",
       "    <tr>\n",
       "      <th>1</th>\n",
       "      <td>100001</td>\n",
       "      <td>0.086735</td>\n",
       "      <td>0.610544</td>\n",
       "      <td>0.215986</td>\n",
       "      <td>0.086735</td>\n",
       "    </tr>\n",
       "    <tr>\n",
       "      <th>2</th>\n",
       "      <td>100002</td>\n",
       "      <td>0.084168</td>\n",
       "      <td>0.573250</td>\n",
       "      <td>0.210100</td>\n",
       "      <td>0.132481</td>\n",
       "    </tr>\n",
       "    <tr>\n",
       "      <th>3</th>\n",
       "      <td>100003</td>\n",
       "      <td>0.084168</td>\n",
       "      <td>0.573250</td>\n",
       "      <td>0.210100</td>\n",
       "      <td>0.132481</td>\n",
       "    </tr>\n",
       "    <tr>\n",
       "      <th>4</th>\n",
       "      <td>100004</td>\n",
       "      <td>0.085857</td>\n",
       "      <td>0.642656</td>\n",
       "      <td>0.163062</td>\n",
       "      <td>0.108426</td>\n",
       "    </tr>\n",
       "    <tr>\n",
       "      <th>...</th>\n",
       "      <td>...</td>\n",
       "      <td>...</td>\n",
       "      <td>...</td>\n",
       "      <td>...</td>\n",
       "      <td>...</td>\n",
       "    </tr>\n",
       "    <tr>\n",
       "      <th>49995</th>\n",
       "      <td>149995</td>\n",
       "      <td>0.084168</td>\n",
       "      <td>0.573250</td>\n",
       "      <td>0.210100</td>\n",
       "      <td>0.132481</td>\n",
       "    </tr>\n",
       "    <tr>\n",
       "      <th>49996</th>\n",
       "      <td>149996</td>\n",
       "      <td>0.085857</td>\n",
       "      <td>0.642656</td>\n",
       "      <td>0.163062</td>\n",
       "      <td>0.108426</td>\n",
       "    </tr>\n",
       "    <tr>\n",
       "      <th>49997</th>\n",
       "      <td>149997</td>\n",
       "      <td>0.084168</td>\n",
       "      <td>0.573250</td>\n",
       "      <td>0.210100</td>\n",
       "      <td>0.132481</td>\n",
       "    </tr>\n",
       "    <tr>\n",
       "      <th>49998</th>\n",
       "      <td>149998</td>\n",
       "      <td>0.084168</td>\n",
       "      <td>0.573250</td>\n",
       "      <td>0.210100</td>\n",
       "      <td>0.132481</td>\n",
       "    </tr>\n",
       "    <tr>\n",
       "      <th>49999</th>\n",
       "      <td>149999</td>\n",
       "      <td>0.084168</td>\n",
       "      <td>0.573250</td>\n",
       "      <td>0.210100</td>\n",
       "      <td>0.132481</td>\n",
       "    </tr>\n",
       "  </tbody>\n",
       "</table>\n",
       "<p>50000 rows × 5 columns</p>\n",
       "</div>"
      ],
      "text/plain": [
       "           id   Class_1   Class_2   Class_3   Class_4\n",
       "0      100000  0.086278  0.606709  0.192987  0.114025\n",
       "1      100001  0.086735  0.610544  0.215986  0.086735\n",
       "2      100002  0.084168  0.573250  0.210100  0.132481\n",
       "3      100003  0.084168  0.573250  0.210100  0.132481\n",
       "4      100004  0.085857  0.642656  0.163062  0.108426\n",
       "...       ...       ...       ...       ...       ...\n",
       "49995  149995  0.084168  0.573250  0.210100  0.132481\n",
       "49996  149996  0.085857  0.642656  0.163062  0.108426\n",
       "49997  149997  0.084168  0.573250  0.210100  0.132481\n",
       "49998  149998  0.084168  0.573250  0.210100  0.132481\n",
       "49999  149999  0.084168  0.573250  0.210100  0.132481\n",
       "\n",
       "[50000 rows x 5 columns]"
      ]
     },
     "execution_count": 17,
     "metadata": {},
     "output_type": "execute_result"
    }
   ],
   "source": [
    "submission"
   ]
  },
  {
   "cell_type": "markdown",
   "id": "structural-genealogy",
   "metadata": {
    "papermill": {
     "duration": 0.057418,
     "end_time": "2021-05-23T10:21:37.880245",
     "exception": false,
     "start_time": "2021-05-23T10:21:37.822827",
     "status": "completed"
    },
    "tags": []
   },
   "source": [
    "# Random Forest\n",
    "\n",
    "I use a Random Forest Classifier here with bootstrapping, i.e. only max_samples of the rows are used for each base estimator. The default setting for max_features (\"auto\") is unchanged, meaning that max_features=sqrt(n_features) are used in each base estimator. \n",
    "\n",
    "Then I experiment with **Cost Sensitive Learning** (i.e. changing the parameter class_weight, guided by [this tutorial](https://machinelearningmastery.com/bagging-and-random-forest-for-imbalanced-classification/)): \n",
    "- default value \"None\"\n",
    "- \"balanced\" - adjust weights inversely proportional to class frequencies in the input data\n",
    "- \"balanced_subsample\" - same as “balanced” except that weights are computed based on the bootstrap sample for every tree grown\n",
    "- different weights specified manually\n",
    "\n",
    "Unfortunatelly my attempts were not fruitful. So I will fall back on the default value for class_weight."
   ]
  },
  {
   "cell_type": "code",
   "execution_count": 18,
   "id": "wicked-alexandria",
   "metadata": {
    "execution": {
     "iopub.execute_input": "2021-05-23T10:21:38.003843Z",
     "iopub.status.busy": "2021-05-23T10:21:38.002978Z",
     "iopub.status.idle": "2021-05-23T10:21:42.149423Z",
     "shell.execute_reply": "2021-05-23T10:21:42.148647Z",
     "shell.execute_reply.started": "2021-05-23T10:20:06.603008Z"
    },
    "papermill": {
     "duration": 4.21264,
     "end_time": "2021-05-23T10:21:42.149646",
     "exception": false,
     "start_time": "2021-05-23T10:21:37.937006",
     "status": "completed"
    },
    "tags": []
   },
   "outputs": [
    {
     "name": "stdout",
     "output_type": "stream",
     "text": [
      "Training accuracy:  0.57712\n",
      "Validation accuracy:  0.57468\n"
     ]
    }
   ],
   "source": [
    "forest = RandomForestClassifier(criterion=\"gini\", max_depth=5, min_samples_leaf = 2, random_state=0, max_samples = 0.8, class_weight={0:4, 1:1, 2:2, 3:3})\n",
    "forest.fit(X_train,y_train)\n",
    "print(\"Training accuracy: \", forest.score(X_train,y_train).round(6))\n",
    "print(\"Validation accuracy: \", forest.score(X_val,y_val).round(6))\n",
    "# class_weigth = \"None\"\n",
    "# Training accuracy:  0.575027\n",
    "# Validation accuracy:  0.57496\n",
    "# class_weight = \"balanced\"\n",
    "# Training accuracy:  0.324933\n",
    "# Validation accuracy:  0.31292 # hm, why is it worse? too much weight on the minority classes?\n",
    "# class_weight = \"balanced_subsample\"\n",
    "# Training accuracy:  0.319693\n",
    "# Validation accuracy:  0.30808 \n",
    "# class_weight = {0:2, 1:1, 2:2, 3:2}\n",
    "# Training accuracy:  0.576893\n",
    "# Validation accuracy:  0.57448\n",
    "# class_weight = {0:4, 1:1, 2:2, 3:3}\n",
    "# Training accuracy:  0.57712\n",
    "# Validation accuracy:  0.57468"
   ]
  },
  {
   "cell_type": "code",
   "execution_count": 19,
   "id": "included-thong",
   "metadata": {
    "execution": {
     "iopub.execute_input": "2021-05-23T10:21:42.274836Z",
     "iopub.status.busy": "2021-05-23T10:21:42.273769Z",
     "iopub.status.idle": "2021-05-23T10:21:43.025860Z",
     "shell.execute_reply": "2021-05-23T10:21:43.025329Z",
     "shell.execute_reply.started": "2021-05-23T10:20:10.759106Z"
    },
    "papermill": {
     "duration": 0.817709,
     "end_time": "2021-05-23T10:21:43.026009",
     "exception": false,
     "start_time": "2021-05-23T10:21:42.208300",
     "status": "completed"
    },
    "tags": []
   },
   "outputs": [
    {
     "name": "stdout",
     "output_type": "stream",
     "text": [
      "Multiclass Log Loss on training set:  1.24449\n",
      "Multiclass Log Loss on validation set:  1.247212\n"
     ]
    }
   ],
   "source": [
    "forest_pred_proba_tr = forest.predict_proba(X_train)\n",
    "forest_log_loss_tr = log_loss(y_train,forest_pred_proba_tr, normalize=True, labels = [0, 1, 2, 3])\n",
    "forest_pred_proba_val = forest.predict_proba(X_val)\n",
    "forest_log_loss_val = log_loss(y_val,forest_pred_proba_val, normalize=True, labels = [0, 1, 2, 3])\n",
    "print(\"Multiclass Log Loss on training set: \", forest_log_loss_tr.round(6))\n",
    "print(\"Multiclass Log Loss on validation set: \", forest_log_loss_val.round(6))\n",
    "\n",
    "# class_weigth = \"None\"\n",
    "# Multiclass Log Loss on training set:  1.107705\n",
    "# Multiclass Log Loss on validation set:  1.110149\n",
    "# class_weight = \"balanced\"\n",
    "# Multiclass Log Loss on training set:  1.374009\n",
    "# Multiclass Log Loss on validation set:  1.376436\n",
    "# class_weight = \"balanced_subsample\"\n",
    "# Multiclass Log Loss on training set:  1.374477\n",
    "# Multiclass Log Loss on validation set:  1.376888\n",
    "# class_weight = {0:2, 1:1, 2:2, 3:2}\n",
    "# Multiclass Log Loss on training set:  1.166128\n",
    "# Multiclass Log Loss on validation set:  1.168808\n",
    "# class_weight = {0:4, 1:1, 2:2, 3:3}\n",
    "# Multiclass Log Loss on training set:  1.24449\n",
    "# Multiclass Log Loss on validation set:  1.247212"
   ]
  },
  {
   "cell_type": "code",
   "execution_count": 20,
   "id": "signed-politics",
   "metadata": {
    "execution": {
     "iopub.execute_input": "2021-05-23T10:21:43.149810Z",
     "iopub.status.busy": "2021-05-23T10:21:43.148592Z",
     "iopub.status.idle": "2021-05-23T10:21:43.728636Z",
     "shell.execute_reply": "2021-05-23T10:21:43.729168Z",
     "shell.execute_reply.started": "2021-05-23T10:20:11.546329Z"
    },
    "papermill": {
     "duration": 0.64627,
     "end_time": "2021-05-23T10:21:43.729366",
     "exception": false,
     "start_time": "2021-05-23T10:21:43.083096",
     "status": "completed"
    },
    "tags": []
   },
   "outputs": [
    {
     "data": {
      "text/plain": [
       "<sklearn.metrics._plot.confusion_matrix.ConfusionMatrixDisplay at 0x7ff00ad95e90>"
      ]
     },
     "execution_count": 20,
     "metadata": {},
     "output_type": "execute_result"
    },
    {
     "data": {
      "image/png": "[encoded data removed]",
      "text/plain": [
       "<Figure size 432x288 with 2 Axes>"
      ]
     },
     "metadata": {
      "needs_background": "light"
     },
     "output_type": "display_data"
    }
   ],
   "source": [
    "plot_confusion_matrix(forest, \n",
    "                      X_val, \n",
    "                      y_val,\n",
    "                      values_format='d',\n",
    "                      display_labels=class_labels)"
   ]
  },
  {
   "cell_type": "markdown",
   "id": "controlling-swaziland",
   "metadata": {
    "papermill": {
     "duration": 0.058959,
     "end_time": "2021-05-23T10:21:43.847818",
     "exception": false,
     "start_time": "2021-05-23T10:21:43.788859",
     "status": "completed"
    },
    "tags": []
   },
   "source": [
    "This looks worse than the plain and simple Decision Tree, only Class_2 is predicted. Using class_weight \"balanced\" or \"balanced_subsample\" makes a huge difference. Now all Classes are predicted, but much more evenly than they should be predicted. So the overall result is worse. "
   ]
  },
  {
   "cell_type": "code",
   "execution_count": 21,
   "id": "specific-communication",
   "metadata": {
    "execution": {
     "iopub.execute_input": "2021-05-23T10:21:43.973894Z",
     "iopub.status.busy": "2021-05-23T10:21:43.973164Z",
     "iopub.status.idle": "2021-05-23T10:21:43.976726Z",
     "shell.execute_reply": "2021-05-23T10:21:43.975964Z",
     "shell.execute_reply.started": "2021-05-23T10:20:12.101540Z"
    },
    "papermill": {
     "duration": 0.069323,
     "end_time": "2021-05-23T10:21:43.976871",
     "exception": false,
     "start_time": "2021-05-23T10:21:43.907548",
     "status": "completed"
    },
    "tags": []
   },
   "outputs": [],
   "source": [
    "# do Grid Search\n",
    "# Round 1\n",
    "#param_grid = {\n",
    "#     'n_estimators' : [100, 150, 200],\n",
    "#     'max_depth': [3, 4, 5],\n",
    "#     'min_samples_leaf': [3, 4, 5],\n",
    "# }\n",
    "param_grid = {\n",
    "     'n_estimators' : [150, 200, 250],\n",
    "     'max_depth': [4, 5, 6],\n",
    "     'min_samples_leaf': [4, 5, 6]\n",
    " }\n",
    "optimal_params = GridSearchCV(\n",
    "     estimator=RandomForestClassifier(max_samples = 0.8),\n",
    "     param_grid=param_grid,\n",
    "     scoring='neg_log_loss', ## see https://scikit-learn.org/stable/modules/model_evaluation.html#scoring-parameter\n",
    "     verbose=2, # NOTE: If you want to see what Grid Search is doing, set verbose=2\n",
    "     cv = 3,\n",
    "     return_train_score= False\n",
    " )\n",
    "# Round 1: {'max_depth': 5, 'min_samples_leaf': 5, 'n_estimators': 200}\n",
    "# Round 2: {'max_depth': 6, 'min_samples_leaf': 6, 'n_estimators': 250} "
   ]
  },
  {
   "cell_type": "code",
   "execution_count": 22,
   "id": "forty-animation",
   "metadata": {
    "execution": {
     "iopub.execute_input": "2021-05-23T10:21:44.097454Z",
     "iopub.status.busy": "2021-05-23T10:21:44.096783Z",
     "iopub.status.idle": "2021-05-23T10:21:44.100993Z",
     "shell.execute_reply": "2021-05-23T10:21:44.100434Z",
     "shell.execute_reply.started": "2021-05-23T10:20:12.110275Z"
    },
    "papermill": {
     "duration": 0.065453,
     "end_time": "2021-05-23T10:21:44.101138",
     "exception": false,
     "start_time": "2021-05-23T10:21:44.035685",
     "status": "completed"
    },
    "tags": []
   },
   "outputs": [],
   "source": [
    "#optimal_params.fit(df_train[features],df_train.target)\n",
    "#print(optimal_params.best_params_)"
   ]
  },
  {
   "cell_type": "code",
   "execution_count": 23,
   "id": "rubber-surgeon",
   "metadata": {
    "execution": {
     "iopub.execute_input": "2021-05-23T10:21:44.222605Z",
     "iopub.status.busy": "2021-05-23T10:21:44.221838Z",
     "iopub.status.idle": "2021-05-23T10:22:00.972615Z",
     "shell.execute_reply": "2021-05-23T10:22:00.973120Z",
     "shell.execute_reply.started": "2021-05-23T10:20:12.124874Z"
    },
    "papermill": {
     "duration": 16.813881,
     "end_time": "2021-05-23T10:22:00.973362",
     "exception": false,
     "start_time": "2021-05-23T10:21:44.159481",
     "status": "completed"
    },
    "tags": []
   },
   "outputs": [
    {
     "name": "stdout",
     "output_type": "stream",
     "text": [
      "Training accuracy:  0.57504\n",
      "Validation accuracy:  0.57504\n",
      "Multiclass Log Loss on training set:  1.10489\n",
      "Multiclass Log Loss on validation set:  1.108934\n"
     ]
    }
   ],
   "source": [
    "# just play around with n_estimators\n",
    "forest = RandomForestClassifier(n_estimators = 300, max_depth=6, min_samples_leaf = 6, random_state=0, max_samples = 0.8)\n",
    "forest.fit(X_train,y_train)\n",
    "print(\"Training accuracy: \", forest.score(X_train,y_train).round(6))\n",
    "print(\"Validation accuracy: \", forest.score(X_val,y_val).round(6))\n",
    "# predict\n",
    "forest_pred_proba_tr = forest.predict_proba(X_train)\n",
    "forest_log_loss_tr = log_loss(y_train,forest_pred_proba_tr, normalize=True, labels = [0, 1, 2, 3])\n",
    "forest_pred_proba_val = forest.predict_proba(X_val)\n",
    "forest_log_loss_val = log_loss(y_val,forest_pred_proba_val, normalize=True, labels = [0, 1, 2, 3])\n",
    "print(\"Multiclass Log Loss on training set: \", forest_log_loss_tr.round(6))\n",
    "print(\"Multiclass Log Loss on validation set: \", forest_log_loss_val.round(6))\n",
    "# n_estimators = 300\n",
    "#Training accuracy:  0.57504\n",
    "#Validation accuracy:  0.57504\n",
    "#Multiclass Log Loss on training set:  1.10489\n",
    "#Multiclass Log Loss on validation set:  1.108934\n",
    "# n_estimators = 400\n",
    "#Training accuracy:  0.575\n",
    "#Validation accuracy:  0.57496\n",
    "#Multiclass Log Loss on training set:  1.104849\n",
    "#Multiclass Log Loss on validation set:  1.108959"
   ]
  },
  {
   "cell_type": "code",
   "execution_count": 24,
   "id": "aggregate-restriction",
   "metadata": {
    "execution": {
     "iopub.execute_input": "2021-05-23T10:22:01.116257Z",
     "iopub.status.busy": "2021-05-23T10:22:01.115151Z",
     "iopub.status.idle": "2021-05-23T10:22:16.586320Z",
     "shell.execute_reply": "2021-05-23T10:22:16.585624Z",
     "shell.execute_reply.started": "2021-05-23T10:20:28.676604Z"
    },
    "papermill": {
     "duration": 15.551478,
     "end_time": "2021-05-23T10:22:16.586482",
     "exception": false,
     "start_time": "2021-05-23T10:22:01.035004",
     "status": "completed"
    },
    "tags": []
   },
   "outputs": [
    {
     "data": {
      "text/plain": [
       "RandomForestClassifier(max_depth=6, max_samples=0.8, min_samples_leaf=6,\n",
       "                       n_estimators=300, random_state=0)"
      ]
     },
     "execution_count": 24,
     "metadata": {},
     "output_type": "execute_result"
    }
   ],
   "source": [
    "# retrain with better hyperparameters\n",
    "forest = RandomForestClassifier(n_estimators = 300, max_depth=6, min_samples_leaf = 6, random_state=0, max_samples = 0.8)\n",
    "forest.fit(df_train[features],df_train.target)"
   ]
  },
  {
   "cell_type": "code",
   "execution_count": 25,
   "id": "filled-cornell",
   "metadata": {
    "execution": {
     "iopub.execute_input": "2021-05-23T10:22:16.713520Z",
     "iopub.status.busy": "2021-05-23T10:22:16.712479Z",
     "iopub.status.idle": "2021-05-23T10:22:17.935969Z",
     "shell.execute_reply": "2021-05-23T10:22:17.935317Z",
     "shell.execute_reply.started": "2021-05-23T10:20:44.226906Z"
    },
    "papermill": {
     "duration": 1.289266,
     "end_time": "2021-05-23T10:22:17.936102",
     "exception": false,
     "start_time": "2021-05-23T10:22:16.646836",
     "status": "completed"
    },
    "tags": []
   },
   "outputs": [],
   "source": [
    "predictions = forest.predict_proba(X_test)"
   ]
  },
  {
   "cell_type": "code",
   "execution_count": 26,
   "id": "changed-transfer",
   "metadata": {
    "execution": {
     "iopub.execute_input": "2021-05-23T10:22:18.063306Z",
     "iopub.status.busy": "2021-05-23T10:22:18.062313Z",
     "iopub.status.idle": "2021-05-23T10:22:18.540595Z",
     "shell.execute_reply": "2021-05-23T10:22:18.540016Z",
     "shell.execute_reply.started": "2021-05-23T10:20:45.446392Z"
    },
    "papermill": {
     "duration": 0.545311,
     "end_time": "2021-05-23T10:22:18.540757",
     "exception": false,
     "start_time": "2021-05-23T10:22:17.995446",
     "status": "completed"
    },
    "tags": []
   },
   "outputs": [
    {
     "data": {
      "text/html": [
       "<div>\n",
       "<style scoped>\n",
       "    .dataframe tbody tr th:only-of-type {\n",
       "        vertical-align: middle;\n",
       "    }\n",
       "\n",
       "    .dataframe tbody tr th {\n",
       "        vertical-align: top;\n",
       "    }\n",
       "\n",
       "    .dataframe thead th {\n",
       "        text-align: right;\n",
       "    }\n",
       "</style>\n",
       "<table border=\"1\" class=\"dataframe\">\n",
       "  <thead>\n",
       "    <tr style=\"text-align: right;\">\n",
       "      <th></th>\n",
       "      <th>id</th>\n",
       "      <th>Class_1</th>\n",
       "      <th>Class_2</th>\n",
       "      <th>Class_3</th>\n",
       "      <th>Class_4</th>\n",
       "    </tr>\n",
       "  </thead>\n",
       "  <tbody>\n",
       "    <tr>\n",
       "      <th>0</th>\n",
       "      <td>100000</td>\n",
       "      <td>0.087748</td>\n",
       "      <td>0.599585</td>\n",
       "      <td>0.195956</td>\n",
       "      <td>0.116711</td>\n",
       "    </tr>\n",
       "    <tr>\n",
       "      <th>1</th>\n",
       "      <td>100001</td>\n",
       "      <td>0.083597</td>\n",
       "      <td>0.580105</td>\n",
       "      <td>0.229770</td>\n",
       "      <td>0.106528</td>\n",
       "    </tr>\n",
       "    <tr>\n",
       "      <th>2</th>\n",
       "      <td>100002</td>\n",
       "      <td>0.085209</td>\n",
       "      <td>0.576615</td>\n",
       "      <td>0.212060</td>\n",
       "      <td>0.126116</td>\n",
       "    </tr>\n",
       "    <tr>\n",
       "      <th>3</th>\n",
       "      <td>100003</td>\n",
       "      <td>0.084991</td>\n",
       "      <td>0.567278</td>\n",
       "      <td>0.211228</td>\n",
       "      <td>0.136503</td>\n",
       "    </tr>\n",
       "    <tr>\n",
       "      <th>4</th>\n",
       "      <td>100004</td>\n",
       "      <td>0.083513</td>\n",
       "      <td>0.605310</td>\n",
       "      <td>0.193417</td>\n",
       "      <td>0.117760</td>\n",
       "    </tr>\n",
       "    <tr>\n",
       "      <th>...</th>\n",
       "      <td>...</td>\n",
       "      <td>...</td>\n",
       "      <td>...</td>\n",
       "      <td>...</td>\n",
       "      <td>...</td>\n",
       "    </tr>\n",
       "    <tr>\n",
       "      <th>49995</th>\n",
       "      <td>149995</td>\n",
       "      <td>0.085882</td>\n",
       "      <td>0.624562</td>\n",
       "      <td>0.177874</td>\n",
       "      <td>0.111682</td>\n",
       "    </tr>\n",
       "    <tr>\n",
       "      <th>49996</th>\n",
       "      <td>149996</td>\n",
       "      <td>0.085040</td>\n",
       "      <td>0.614100</td>\n",
       "      <td>0.180632</td>\n",
       "      <td>0.120228</td>\n",
       "    </tr>\n",
       "    <tr>\n",
       "      <th>49997</th>\n",
       "      <td>149997</td>\n",
       "      <td>0.084758</td>\n",
       "      <td>0.557359</td>\n",
       "      <td>0.221592</td>\n",
       "      <td>0.136291</td>\n",
       "    </tr>\n",
       "    <tr>\n",
       "      <th>49998</th>\n",
       "      <td>149998</td>\n",
       "      <td>0.082596</td>\n",
       "      <td>0.561444</td>\n",
       "      <td>0.217922</td>\n",
       "      <td>0.138038</td>\n",
       "    </tr>\n",
       "    <tr>\n",
       "      <th>49999</th>\n",
       "      <td>149999</td>\n",
       "      <td>0.085179</td>\n",
       "      <td>0.573756</td>\n",
       "      <td>0.211143</td>\n",
       "      <td>0.129923</td>\n",
       "    </tr>\n",
       "  </tbody>\n",
       "</table>\n",
       "<p>50000 rows × 5 columns</p>\n",
       "</div>"
      ],
      "text/plain": [
       "           id   Class_1   Class_2   Class_3   Class_4\n",
       "0      100000  0.087748  0.599585  0.195956  0.116711\n",
       "1      100001  0.083597  0.580105  0.229770  0.106528\n",
       "2      100002  0.085209  0.576615  0.212060  0.126116\n",
       "3      100003  0.084991  0.567278  0.211228  0.136503\n",
       "4      100004  0.083513  0.605310  0.193417  0.117760\n",
       "...       ...       ...       ...       ...       ...\n",
       "49995  149995  0.085882  0.624562  0.177874  0.111682\n",
       "49996  149996  0.085040  0.614100  0.180632  0.120228\n",
       "49997  149997  0.084758  0.557359  0.221592  0.136291\n",
       "49998  149998  0.082596  0.561444  0.217922  0.138038\n",
       "49999  149999  0.085179  0.573756  0.211143  0.129923\n",
       "\n",
       "[50000 rows x 5 columns]"
      ]
     },
     "execution_count": 26,
     "metadata": {},
     "output_type": "execute_result"
    }
   ],
   "source": [
    "# create submission file\n",
    "#sample_submission.drop(columns=class_labels, inplace=True)\n",
    "submission = (sample_submission.join(pd.DataFrame(data=predictions, columns=class_labels)))\n",
    "submission.to_csv(\"submission_RF.csv\", index=False)\n",
    "submission"
   ]
  },
  {
   "cell_type": "markdown",
   "id": "expected-level",
   "metadata": {
    "papermill": {
     "duration": 0.060442,
     "end_time": "2021-05-23T10:22:18.661693",
     "exception": false,
     "start_time": "2021-05-23T10:22:18.601251",
     "status": "completed"
    },
    "tags": []
   },
   "source": [
    "# Understanding Mulitclass Log Loss"
   ]
  },
  {
   "cell_type": "code",
   "execution_count": 27,
   "id": "worldwide-garbage",
   "metadata": {
    "execution": {
     "iopub.execute_input": "2021-05-23T10:22:18.791032Z",
     "iopub.status.busy": "2021-05-23T10:22:18.790077Z",
     "iopub.status.idle": "2021-05-23T10:22:18.794548Z",
     "shell.execute_reply": "2021-05-23T10:22:18.793910Z",
     "shell.execute_reply.started": "2021-05-23T10:20:45.929502Z"
    },
    "papermill": {
     "duration": 0.072824,
     "end_time": "2021-05-23T10:22:18.794701",
     "exception": false,
     "start_time": "2021-05-23T10:22:18.721877",
     "status": "completed"
    },
    "tags": []
   },
   "outputs": [
    {
     "data": {
      "text/plain": [
       "1.0601317681000455"
      ]
     },
     "execution_count": 27,
     "metadata": {},
     "output_type": "execute_result"
    }
   ],
   "source": [
    "from sklearn.metrics import log_loss\n",
    "proba = [[0.1, 0.6, 0.1, 0.2],[0.1, 0.4, 0.2, 0.3]]\n",
    "gt = [[0,1,0,0], [0,0,1,0]]\n",
    "log_loss(gt,proba, normalize=True)"
   ]
  },
  {
   "cell_type": "code",
   "execution_count": 28,
   "id": "literary-burning",
   "metadata": {
    "execution": {
     "iopub.execute_input": "2021-05-23T10:22:18.923374Z",
     "iopub.status.busy": "2021-05-23T10:22:18.922617Z",
     "iopub.status.idle": "2021-05-23T10:22:18.926200Z",
     "shell.execute_reply": "2021-05-23T10:22:18.925595Z",
     "shell.execute_reply.started": "2021-05-23T10:20:45.941676Z"
    },
    "papermill": {
     "duration": 0.071599,
     "end_time": "2021-05-23T10:22:18.926383",
     "exception": false,
     "start_time": "2021-05-23T10:22:18.854784",
     "status": "completed"
    },
    "tags": []
   },
   "outputs": [
    {
     "data": {
      "text/plain": [
       "1.0601317681000455"
      ]
     },
     "execution_count": 28,
     "metadata": {},
     "output_type": "execute_result"
    }
   ],
   "source": [
    "proba = [[0.1, 0.6, 0.1, 0.2],[0.1, 0.4, 0.2, 0.3]]\n",
    "gt = [[1], [2]]\n",
    "log_loss(gt,proba, normalize=True, labels = [0, 1, 2, 3])"
   ]
  },
  {
   "cell_type": "code",
   "execution_count": 29,
   "id": "fitting-content",
   "metadata": {
    "execution": {
     "iopub.execute_input": "2021-05-23T10:22:19.059206Z",
     "iopub.status.busy": "2021-05-23T10:22:19.058217Z",
     "iopub.status.idle": "2021-05-23T10:22:19.064873Z",
     "shell.execute_reply": "2021-05-23T10:22:19.064362Z",
     "shell.execute_reply.started": "2021-05-23T10:20:45.957335Z"
    },
    "papermill": {
     "duration": 0.076868,
     "end_time": "2021-05-23T10:22:19.065006",
     "exception": false,
     "start_time": "2021-05-23T10:22:18.988138",
     "status": "completed"
    },
    "tags": []
   },
   "outputs": [
    {
     "data": {
      "text/plain": [
       "0.5108256237659907"
      ]
     },
     "metadata": {},
     "output_type": "display_data"
    },
    {
     "data": {
      "text/plain": [
       "0.5108256237659907"
      ]
     },
     "execution_count": 29,
     "metadata": {},
     "output_type": "execute_result"
    }
   ],
   "source": [
    "proba = [[0.1, 0.6, 0.1, 0.2]]\n",
    "gt = [[0,1,0,0]]\n",
    "display(log_loss(gt,proba, normalize=True))\n",
    "-np.log(0.6)"
   ]
  },
  {
   "cell_type": "code",
   "execution_count": 30,
   "id": "complimentary-official",
   "metadata": {
    "execution": {
     "iopub.execute_input": "2021-05-23T10:22:19.198011Z",
     "iopub.status.busy": "2021-05-23T10:22:19.197236Z",
     "iopub.status.idle": "2021-05-23T10:22:19.204297Z",
     "shell.execute_reply": "2021-05-23T10:22:19.203743Z",
     "shell.execute_reply.started": "2021-05-23T10:20:45.974128Z"
    },
    "papermill": {
     "duration": 0.077825,
     "end_time": "2021-05-23T10:22:19.204442",
     "exception": false,
     "start_time": "2021-05-23T10:22:19.126617",
     "status": "completed"
    },
    "tags": []
   },
   "outputs": [
    {
     "data": {
      "text/plain": [
       "1.6094379124341003"
      ]
     },
     "metadata": {},
     "output_type": "display_data"
    },
    {
     "data": {
      "text/plain": [
       "1.6094379124341003"
      ]
     },
     "execution_count": 30,
     "metadata": {},
     "output_type": "execute_result"
    }
   ],
   "source": [
    "proba = [[0.1, 0.4, 0.2, 0.3]]\n",
    "gt = [[0,0,1,0]]\n",
    "display(log_loss(gt,proba, normalize=True))\n",
    "-np.log(0.2)"
   ]
  },
  {
   "cell_type": "code",
   "execution_count": 31,
   "id": "dying-consent",
   "metadata": {
    "execution": {
     "iopub.execute_input": "2021-05-23T10:22:19.336015Z",
     "iopub.status.busy": "2021-05-23T10:22:19.335313Z",
     "iopub.status.idle": "2021-05-23T10:22:19.341869Z",
     "shell.execute_reply": "2021-05-23T10:22:19.341372Z",
     "shell.execute_reply.started": "2021-05-23T10:20:45.991418Z"
    },
    "papermill": {
     "duration": 0.075622,
     "end_time": "2021-05-23T10:22:19.342011",
     "exception": false,
     "start_time": "2021-05-23T10:22:19.266389",
     "status": "completed"
    },
    "tags": []
   },
   "outputs": [
    {
     "data": {
      "text/plain": [
       "1.0601317681000455"
      ]
     },
     "metadata": {},
     "output_type": "display_data"
    },
    {
     "data": {
      "text/plain": [
       "1.0601317681000455"
      ]
     },
     "execution_count": 31,
     "metadata": {},
     "output_type": "execute_result"
    }
   ],
   "source": [
    "proba = [[0.1, 0.6, 0.1, 0.2],[0.1, 0.4, 0.2, 0.3]]\n",
    "gt = [[0,1,0,0], [0,0,1,0]]\n",
    "display(log_loss(gt,proba, normalize=True))\n",
    "(np.log(0.6) + np.log(0.2)) / -2"
   ]
  },
  {
   "cell_type": "code",
   "execution_count": 32,
   "id": "entire-proportion",
   "metadata": {
    "execution": {
     "iopub.execute_input": "2021-05-23T10:22:19.474188Z",
     "iopub.status.busy": "2021-05-23T10:22:19.473432Z",
     "iopub.status.idle": "2021-05-23T10:22:19.479983Z",
     "shell.execute_reply": "2021-05-23T10:22:19.480477Z",
     "shell.execute_reply.started": "2021-05-23T10:20:46.007771Z"
    },
    "papermill": {
     "duration": 0.075645,
     "end_time": "2021-05-23T10:22:19.480654",
     "exception": false,
     "start_time": "2021-05-23T10:22:19.405009",
     "status": "completed"
    },
    "tags": []
   },
   "outputs": [
    {
     "data": {
      "text/plain": [
       "3.219646771412959e-15"
      ]
     },
     "metadata": {},
     "output_type": "display_data"
    },
    {
     "data": {
      "text/plain": [
       "9.992007221626415e-16"
      ]
     },
     "execution_count": 32,
     "metadata": {},
     "output_type": "execute_result"
    }
   ],
   "source": [
    "#proba = [[10**-15, 10**-15, 1-(10**-15), 10**-15]]\n",
    "\n",
    "proba = [[0,0,1,0]]\n",
    "gt = [[0,0,1,0]]\n",
    "display(log_loss(gt,proba, normalize=True))\n",
    "-np.log(1-(10**-15))\n",
    "\n",
    "# is the result close enough? both is basically zero"
   ]
  },
  {
   "cell_type": "code",
   "execution_count": 33,
   "id": "subtle-attribute",
   "metadata": {
    "execution": {
     "iopub.execute_input": "2021-05-23T10:22:19.611695Z",
     "iopub.status.busy": "2021-05-23T10:22:19.611022Z",
     "iopub.status.idle": "2021-05-23T10:22:19.618067Z",
     "shell.execute_reply": "2021-05-23T10:22:19.617546Z",
     "shell.execute_reply.started": "2021-05-23T10:20:46.026353Z"
    },
    "papermill": {
     "duration": 0.073124,
     "end_time": "2021-05-23T10:22:19.618210",
     "exception": false,
     "start_time": "2021-05-23T10:22:19.545086",
     "status": "completed"
    },
    "tags": []
   },
   "outputs": [
    {
     "data": {
      "text/plain": [
       "1e-15"
      ]
     },
     "execution_count": 33,
     "metadata": {},
     "output_type": "execute_result"
    }
   ],
   "source": [
    "10**-15\n"
   ]
  },
  {
   "cell_type": "code",
   "execution_count": null,
   "id": "concerned-fetish",
   "metadata": {
    "papermill": {
     "duration": 0.063366,
     "end_time": "2021-05-23T10:22:19.745238",
     "exception": false,
     "start_time": "2021-05-23T10:22:19.681872",
     "status": "completed"
    },
    "tags": []
   },
   "outputs": [],
   "source": []
  }
 ],
 "metadata": {
  "kernelspec": {
   "display_name": "Python 3",
   "language": "python",
   "name": "python3"
  },
  "language_info": {
   "codemirror_mode": {
    "name": "ipython",
    "version": 3
   },
   "file_extension": ".py",
   "mimetype": "text/x-python",
   "name": "python",
   "nbconvert_exporter": "python",
   "pygments_lexer": "ipython3",
   "version": "3.7.10"
  },
  "papermill": {
   "default_parameters": {},
   "duration": 76.931353,
   "end_time": "2021-05-23T10:22:21.333407",
   "environment_variables": {},
   "exception": null,
   "input_path": "__notebook__.ipynb",
   "output_path": "__notebook__.ipynb",
   "parameters": {},
   "start_time": "2021-05-23T10:21:04.402054",
   "version": "2.3.3"
  }
 },
 "nbformat": 4,
 "nbformat_minor": 5
}
