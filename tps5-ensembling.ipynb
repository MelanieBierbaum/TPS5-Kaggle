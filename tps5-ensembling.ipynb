{
 "cells": [
  {
   "cell_type": "code",
   "execution_count": 1,
   "id": "young-anxiety",
   "metadata": {
    "_cell_guid": "b1076dfc-b9ad-4769-8c92-a6c4dae69d19",
    "_uuid": "8f2839f25d086af736a60e9eeb907d3b93b6e0e5",
    "execution": {
     "iopub.execute_input": "2021-05-17T12:19:17.561865Z",
     "iopub.status.busy": "2021-05-17T12:19:17.559983Z",
     "iopub.status.idle": "2021-05-17T12:19:17.589832Z",
     "shell.execute_reply": "2021-05-17T12:19:17.589059Z"
    },
    "papermill": {
     "duration": 0.041624,
     "end_time": "2021-05-17T12:19:17.590021",
     "exception": false,
     "start_time": "2021-05-17T12:19:17.548397",
     "status": "completed"
    },
    "tags": []
   },
   "outputs": [
    {
     "name": "stdout",
     "output_type": "stream",
     "text": [
      "/kaggle/input/tps5-xgboost-commented/__results__.html\n",
      "/kaggle/input/tps5-xgboost-commented/my_submission.csv\n",
      "/kaggle/input/tps5-xgboost-commented/__resultx__.html\n",
      "/kaggle/input/tps5-xgboost-commented/__notebook__.ipynb\n",
      "/kaggle/input/tps5-xgboost-commented/__output__.json\n",
      "/kaggle/input/tps5-xgboost-commented/custom.css\n",
      "/kaggle/input/tps5-xgboost-commented/__results___files/__results___14_0.png\n",
      "/kaggle/input/tps5-xgboost-commented/__results___files/__results___12_1.png\n",
      "/kaggle/input/tps5-dtandrf/submission_DT.csv\n",
      "/kaggle/input/tps5-dtandrf/__results__.html\n",
      "/kaggle/input/tps5-dtandrf/submission_RF.csv\n",
      "/kaggle/input/tps5-dtandrf/__notebook__.ipynb\n",
      "/kaggle/input/tps5-dtandrf/__output__.json\n",
      "/kaggle/input/tps5-dtandrf/custom.css\n",
      "/kaggle/input/tps5-dtandrf/__results___files/__results___8_1.png\n",
      "/kaggle/input/tps5-dtandrf/__results___files/__results___24_1.png\n",
      "/kaggle/input/tabular-playground-series-may-2021/sample_submission.csv\n",
      "/kaggle/input/tabular-playground-series-may-2021/train.csv\n",
      "/kaggle/input/tabular-playground-series-may-2021/test.csv\n"
     ]
    }
   ],
   "source": [
    "# This Python 3 environment comes with many helpful analytics libraries installed\n",
    "# It is defined by the kaggle/python Docker image: https://github.com/kaggle/docker-python\n",
    "# For example, here's several helpful packages to load\n",
    "\n",
    "import numpy as np # linear algebra\n",
    "import pandas as pd # data processing, CSV file I/O (e.g. pd.read_csv)\n",
    "\n",
    "# Input data files are available in the read-only \"../input/\" directory\n",
    "# For example, running this (by clicking run or pressing Shift+Enter) will list all files under the input directory\n",
    "\n",
    "import os\n",
    "for dirname, _, filenames in os.walk('/kaggle/input'):\n",
    "    for filename in filenames:\n",
    "        print(os.path.join(dirname, filename))\n",
    "\n",
    "# You can write up to 20GB to the current directory (/kaggle/working/) that gets preserved as output when you create a version using \"Save & Run All\" \n",
    "# You can also write temporary files to /kaggle/temp/, but they won't be saved outside of the current session"
   ]
  },
  {
   "cell_type": "markdown",
   "id": "graphic-evidence",
   "metadata": {
    "papermill": {
     "duration": 0.006409,
     "end_time": "2021-05-17T12:19:17.603708",
     "exception": false,
     "start_time": "2021-05-17T12:19:17.597299",
     "status": "completed"
    },
    "tags": []
   },
   "source": [
    "# About\n",
    "This notebook is for testing ensembling method with the results of my previous notebooks."
   ]
  },
  {
   "cell_type": "code",
   "execution_count": 2,
   "id": "cleared-listing",
   "metadata": {
    "execution": {
     "iopub.execute_input": "2021-05-17T12:19:17.620554Z",
     "iopub.status.busy": "2021-05-17T12:19:17.619531Z",
     "iopub.status.idle": "2021-05-17T12:19:17.822097Z",
     "shell.execute_reply": "2021-05-17T12:19:17.822647Z"
    },
    "papermill": {
     "duration": 0.212663,
     "end_time": "2021-05-17T12:19:17.822832",
     "exception": false,
     "start_time": "2021-05-17T12:19:17.610169",
     "status": "completed"
    },
    "tags": []
   },
   "outputs": [],
   "source": [
    "# read previous submissons\n",
    "my_sub_xgb = pd.read_csv('../input/tps5-xgboost-commented/my_submission.csv')\n",
    "my_sub_rf = pd.read_csv('../input/tps5-dtandrf/submission_RF.csv')"
   ]
  },
  {
   "cell_type": "markdown",
   "id": "distinct-botswana",
   "metadata": {
    "papermill": {
     "duration": 0.006062,
     "end_time": "2021-05-17T12:19:17.835431",
     "exception": false,
     "start_time": "2021-05-17T12:19:17.829369",
     "status": "completed"
    },
    "tags": []
   },
   "source": [
    "Start with a very simple ensemble: (XGBoost results *2 + RF results) / 3"
   ]
  },
  {
   "cell_type": "code",
   "execution_count": 3,
   "id": "political-killer",
   "metadata": {
    "execution": {
     "iopub.execute_input": "2021-05-17T12:19:17.853763Z",
     "iopub.status.busy": "2021-05-17T12:19:17.853066Z",
     "iopub.status.idle": "2021-05-17T12:19:17.916668Z",
     "shell.execute_reply": "2021-05-17T12:19:17.917180Z"
    },
    "papermill": {
     "duration": 0.0756,
     "end_time": "2021-05-17T12:19:17.917388",
     "exception": false,
     "start_time": "2021-05-17T12:19:17.841788",
     "status": "completed"
    },
    "tags": []
   },
   "outputs": [
    {
     "data": {
      "text/html": [
       "<div>\n",
       "<style scoped>\n",
       "    .dataframe tbody tr th:only-of-type {\n",
       "        vertical-align: middle;\n",
       "    }\n",
       "\n",
       "    .dataframe tbody tr th {\n",
       "        vertical-align: top;\n",
       "    }\n",
       "\n",
       "    .dataframe thead th {\n",
       "        text-align: right;\n",
       "    }\n",
       "</style>\n",
       "<table border=\"1\" class=\"dataframe\">\n",
       "  <thead>\n",
       "    <tr style=\"text-align: right;\">\n",
       "      <th></th>\n",
       "      <th>id</th>\n",
       "      <th>Class_1</th>\n",
       "      <th>Class_2</th>\n",
       "      <th>Class_3</th>\n",
       "      <th>Class_4</th>\n",
       "    </tr>\n",
       "  </thead>\n",
       "  <tbody>\n",
       "    <tr>\n",
       "      <th>0</th>\n",
       "      <td>100000</td>\n",
       "      <td>0.084017</td>\n",
       "      <td>0.605772</td>\n",
       "      <td>0.199465</td>\n",
       "      <td>0.110745</td>\n",
       "    </tr>\n",
       "    <tr>\n",
       "      <th>1</th>\n",
       "      <td>100001</td>\n",
       "      <td>0.074295</td>\n",
       "      <td>0.680007</td>\n",
       "      <td>0.151809</td>\n",
       "      <td>0.093890</td>\n",
       "    </tr>\n",
       "    <tr>\n",
       "      <th>2</th>\n",
       "      <td>100002</td>\n",
       "      <td>0.087998</td>\n",
       "      <td>0.611969</td>\n",
       "      <td>0.180455</td>\n",
       "      <td>0.119577</td>\n",
       "    </tr>\n",
       "    <tr>\n",
       "      <th>3</th>\n",
       "      <td>100003</td>\n",
       "      <td>0.069748</td>\n",
       "      <td>0.554778</td>\n",
       "      <td>0.259501</td>\n",
       "      <td>0.115974</td>\n",
       "    </tr>\n",
       "    <tr>\n",
       "      <th>4</th>\n",
       "      <td>100004</td>\n",
       "      <td>0.077021</td>\n",
       "      <td>0.609804</td>\n",
       "      <td>0.197618</td>\n",
       "      <td>0.115556</td>\n",
       "    </tr>\n",
       "    <tr>\n",
       "      <th>...</th>\n",
       "      <td>...</td>\n",
       "      <td>...</td>\n",
       "      <td>...</td>\n",
       "      <td>...</td>\n",
       "      <td>...</td>\n",
       "    </tr>\n",
       "    <tr>\n",
       "      <th>49995</th>\n",
       "      <td>149995</td>\n",
       "      <td>0.083673</td>\n",
       "      <td>0.685549</td>\n",
       "      <td>0.156682</td>\n",
       "      <td>0.074096</td>\n",
       "    </tr>\n",
       "    <tr>\n",
       "      <th>49996</th>\n",
       "      <td>149996</td>\n",
       "      <td>0.075500</td>\n",
       "      <td>0.647667</td>\n",
       "      <td>0.147974</td>\n",
       "      <td>0.128860</td>\n",
       "    </tr>\n",
       "    <tr>\n",
       "      <th>49997</th>\n",
       "      <td>149997</td>\n",
       "      <td>0.086782</td>\n",
       "      <td>0.510471</td>\n",
       "      <td>0.232185</td>\n",
       "      <td>0.170561</td>\n",
       "    </tr>\n",
       "    <tr>\n",
       "      <th>49998</th>\n",
       "      <td>149998</td>\n",
       "      <td>0.079191</td>\n",
       "      <td>0.575219</td>\n",
       "      <td>0.183932</td>\n",
       "      <td>0.161658</td>\n",
       "    </tr>\n",
       "    <tr>\n",
       "      <th>49999</th>\n",
       "      <td>149999</td>\n",
       "      <td>0.088758</td>\n",
       "      <td>0.587391</td>\n",
       "      <td>0.198507</td>\n",
       "      <td>0.125344</td>\n",
       "    </tr>\n",
       "  </tbody>\n",
       "</table>\n",
       "<p>50000 rows × 5 columns</p>\n",
       "</div>"
      ],
      "text/plain": [
       "           id   Class_1   Class_2   Class_3   Class_4\n",
       "0      100000  0.084017  0.605772  0.199465  0.110745\n",
       "1      100001  0.074295  0.680007  0.151809  0.093890\n",
       "2      100002  0.087998  0.611969  0.180455  0.119577\n",
       "3      100003  0.069748  0.554778  0.259501  0.115974\n",
       "4      100004  0.077021  0.609804  0.197618  0.115556\n",
       "...       ...       ...       ...       ...       ...\n",
       "49995  149995  0.083673  0.685549  0.156682  0.074096\n",
       "49996  149996  0.075500  0.647667  0.147974  0.128860\n",
       "49997  149997  0.086782  0.510471  0.232185  0.170561\n",
       "49998  149998  0.079191  0.575219  0.183932  0.161658\n",
       "49999  149999  0.088758  0.587391  0.198507  0.125344\n",
       "\n",
       "[50000 rows x 5 columns]"
      ]
     },
     "execution_count": 3,
     "metadata": {},
     "output_type": "execute_result"
    }
   ],
   "source": [
    "ensemble = (my_sub_xgb * 2 + my_sub_rf) / 3\n",
    "ensemble.id = ensemble.id.astype(int)\n",
    "ensemble"
   ]
  },
  {
   "cell_type": "code",
   "execution_count": 4,
   "id": "explicit-grocery",
   "metadata": {
    "execution": {
     "iopub.execute_input": "2021-05-17T12:19:17.937948Z",
     "iopub.status.busy": "2021-05-17T12:19:17.936987Z",
     "iopub.status.idle": "2021-05-17T12:19:18.451956Z",
     "shell.execute_reply": "2021-05-17T12:19:18.451198Z"
    },
    "papermill": {
     "duration": 0.527479,
     "end_time": "2021-05-17T12:19:18.452162",
     "exception": false,
     "start_time": "2021-05-17T12:19:17.924683",
     "status": "completed"
    },
    "tags": []
   },
   "outputs": [],
   "source": [
    "ensemble.to_csv(\"my_sub_ens.csv\", index=False)"
   ]
  },
  {
   "cell_type": "code",
   "execution_count": null,
   "id": "palestinian-petroleum",
   "metadata": {
    "papermill": {
     "duration": 0.006888,
     "end_time": "2021-05-17T12:19:18.466649",
     "exception": false,
     "start_time": "2021-05-17T12:19:18.459761",
     "status": "completed"
    },
    "tags": []
   },
   "outputs": [],
   "source": []
  }
 ],
 "metadata": {
  "kernelspec": {
   "display_name": "Python 3",
   "language": "python",
   "name": "python3"
  },
  "language_info": {
   "codemirror_mode": {
    "name": "ipython",
    "version": 3
   },
   "file_extension": ".py",
   "mimetype": "text/x-python",
   "name": "python",
   "nbconvert_exporter": "python",
   "pygments_lexer": "ipython3",
   "version": "3.7.9"
  },
  "papermill": {
   "default_parameters": {},
   "duration": 8.585972,
   "end_time": "2021-05-17T12:19:19.083605",
   "environment_variables": {},
   "exception": null,
   "input_path": "__notebook__.ipynb",
   "output_path": "__notebook__.ipynb",
   "parameters": {},
   "start_time": "2021-05-17T12:19:10.497633",
   "version": "2.3.2"
  }
 },
 "nbformat": 4,
 "nbformat_minor": 5
}
